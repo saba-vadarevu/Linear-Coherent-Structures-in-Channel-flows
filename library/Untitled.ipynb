{
 "cells": [
  {
   "cell_type": "code",
   "execution_count": 1,
   "metadata": {
    "collapsed": false,
    "deletable": true,
    "editable": true
   },
   "outputs": [
    {
     "name": "stdout",
     "output_type": "stream",
     "text": [
      "The autoreload extension is already loaded. To reload it, use:\n",
      "  %reload_ext autoreload\n"
     ]
    }
   ],
   "source": [
    "% load_ext autoreload\n",
    "% autoreload 2\n"
   ]
  },
  {
   "cell_type": "code",
   "execution_count": 2,
   "metadata": {
    "collapsed": false,
    "deletable": true,
    "editable": true
   },
   "outputs": [],
   "source": [
    "from pseudo import *\n",
    "import numpy as np\n",
    "import blasius\n",
    "import matplotlib.pyplot as plt\n",
    "import ops\n",
    "import scipy as sp\n",
    "%matplotlib inline"
   ]
  },
  {
   "cell_type": "code",
   "execution_count": 36,
   "metadata": {
    "collapsed": false,
    "deletable": true,
    "editable": true
   },
   "outputs": [
    {
     "name": "stderr",
     "output_type": "stream",
     "text": [
      "/home/sabarish/Dropbox/melb/code/library/ops.py:30: UserWarning: Code for boundary layers is not ready yet.. DO NOT TRUST THESE RESULTS.\n",
      "  warn(\"Code for boundary layers is not ready yet.. DO NOT TRUST THESE RESULTS.\")\n",
      "/home/sabarish/Dropbox/melb/code/library/pseudo.py:507: UserWarning: Differentiation matrices for BLs only work on quantities that go to 0 as y -> inf.\n",
      "  warn(\"Differentiation matrices for BLs only work on quantities that go to 0 as y -> inf.\")\n"
     ]
    },
    {
     "name": "stdout",
     "output_type": "stream",
     "text": [
      "Eigenvalue solution returned with error norm: 5.68720834388e-11\n",
      "(302,) (302, 302) (151,)\n"
     ]
    },
    {
     "data": {
      "image/png": "[encoded data removed]",
      "text/plain": [
       "<matplotlib.figure.Figure at 0x7fc9710efeb8>"
      ]
     },
     "metadata": {},
     "output_type": "display_data"
    }
   ],
   "source": [
    "flowDict = {'a':1./1.72, 'b':0., 'Re':800./1.72}\n",
    "#flowDict = {'a':0.2,'b':0., 'Re':500.}\n",
    "N = 151\n",
    "#y = chebdif(N+2,1)[0]\n",
    "#y = y[1:-1]\n",
    "#U = 1.- y**2; dU = -2.*y; d2U=-2.*np.ones(U.size)\n",
    "#linOps = ops.linearize(N=N,flowClass=\"channel\", U=U, dU=dU, d2U=d2U )\n",
    "linOps = ops.linearize(N=N,flowClass=\"bl\",Y=15.)\n",
    "\n",
    "evals, evecs = linOps.eig(linOps.OSS(**flowDict), weighted=True)\n",
    "#evals, evecs = linOps.eig(OSS, b=b, weighted=True)\n",
    "print(evals.shape, evecs.shape, linOps.y.shape)\n",
    "\n",
    "omega = -1.j*evals\n",
    "c = omega/flowDict['a']\n",
    "#c = omega\n",
    "if True:\n",
    "    plt.scatter(c.real, c.imag)\n",
    "    plt.xlim([0.,0.4])\n",
    "    plt.ylim([-0.2,0.])\n",
    "    plt.xlabel(\"$c_r$\"); plt.ylabel(\"$c_i$\")\n",
    "    plt.show()"
   ]
  },
  {
   "cell_type": "code",
   "execution_count": 37,
   "metadata": {
    "collapsed": false,
    "deletable": true,
    "editable": true
   },
   "outputs": [
    {
     "name": "stdout",
     "output_type": "stream",
     "text": [
      "[ 0.29404424-0.08242276j  0.14992653-0.08786553j  0.26259680-0.1522347j\n",
      "  0.46368696-0.16985164j  0.35536572-0.20404568j  0.58317471-0.21360701j\n",
      "  0.23719315-0.2143714j   0.43809853-0.24861048j  0.66973366-0.2868408j\n",
      "  0.51467298-0.28783762j  0.42142710-0.29550936j  0.76855006-0.29600468j\n",
      "  0.71495947-0.3170096j   0.58720443-0.32261956j  0.65670779-0.35368605j\n",
      "  0.57824546-0.35870288j  0.65345626-0.36560538j  0.72584214-0.37579287j]\n"
     ]
    }
   ],
   "source": [
    "c1 = c[0.<c.real]\n",
    "c2 = c1[c1.real<0.8]\n",
    "c3 = c2[-0.4< c2.imag]\n",
    "c4 = c3[c3.imag< 0.]\n",
    "\n",
    "#ind = np.arange(c.size)[boolInd]\n",
    "#print(c4)\n",
    "c = c4\n",
    "if True:\n",
    "    ind = np.argsort(-c.imag)\n",
    "    cSort = c[ind]\n",
    "    print(cSort[:20])\n",
    "    #c = cSort"
   ]
  },
  {
   "cell_type": "code",
   "execution_count": 8,
   "metadata": {
    "collapsed": false,
    "deletable": true,
    "editable": true
   },
   "outputs": [
    {
     "data": {
      "image/png": "[encoded data removed]",
      "text/plain": [
       "<matplotlib.figure.Figure at 0x7fc971321f28>"
      ]
     },
     "metadata": {},
     "output_type": "display_data"
    }
   ],
   "source": [
    "plt.plot(linOps.y, linOps.U)\n",
    "plt.show()"
   ]
  },
  {
   "cell_type": "code",
   "execution_count": 9,
   "metadata": {
    "collapsed": true,
    "deletable": true,
    "editable": true
   },
   "outputs": [],
   "source": [
    "# Testing the differentiation operator of BL\n",
    "y = linOps.y\n",
    "f   = (y**2)* np.exp(-y)\n",
    "fy  = np.exp(-y)*(2.*y - y**2)\n",
    "fy2 = np.exp(-y)*(2.-4.*y + y**2)\n",
    "fy4 = np.exp(-y)*(12.-8.*y+y**2)\n",
    "\n",
    "_fy  = np.dot(linOps.D1, f)\n",
    "_fy2 = np.dot(linOps.D2, f)\n",
    "_fy4 = np.dot(linOps.D4, f)\n"
   ]
  },
  {
   "cell_type": "code",
   "execution_count": 10,
   "metadata": {
    "collapsed": false,
    "deletable": true,
    "editable": true
   },
   "outputs": [
    {
     "data": {
      "image/png": "[encoded data removed]",
      "text/plain": [
       "<matplotlib.figure.Figure at 0x7fc971236ac8>"
      ]
     },
     "metadata": {},
     "output_type": "display_data"
    },
    {
     "data": {
      "image/png": "[encoded data removed]",
      "text/plain": [
       "<matplotlib.figure.Figure at 0x7fc9712317b8>"
      ]
     },
     "metadata": {},
     "output_type": "display_data"
    }
   ],
   "source": [
    "plt.plot(y, fy,'k', y, fy2,'r', y, fy4,'b')\n",
    "#plt.yscale(\"log\")\n",
    "plt.legend(['fy','fy2','fy4'])\n",
    "plt.show()\n",
    "\n",
    "plt.figure()\n",
    "plt.plot(y, fy-_fy,'k', y, fy2-_fy2,'r', y, fy4-_fy4,'b')\n",
    "plt.yscale(\"log\")\n",
    "plt.legend(['fy','fy2','fy4'])\n",
    "plt.show()"
   ]
  },
  {
   "cell_type": "markdown",
   "metadata": {
    "collapsed": true,
    "deletable": true,
    "editable": true
   },
   "source": [
    "# Testing BL transformation code"
   ]
  },
  {
   "cell_type": "markdown",
   "metadata": {
    "deletable": true,
    "editable": true
   },
   "source": [
    "## Calculating derivatives directly from channel diff mats"
   ]
  },
  {
   "cell_type": "code",
   "execution_count": 22,
   "metadata": {
    "collapsed": false,
    "deletable": true,
    "editable": true
   },
   "outputs": [
    {
     "name": "stdout",
     "output_type": "stream",
     "text": [
      "Norm diffs: Unclamped -clamped: -5.62e-15, Unclamped-function:2.75e-15, Clamped-function:8.37e-15\n",
      "Norm diffs: Unclamped2 -clamped2: -1.25e-12, Unclamped2-function2:-3.85e-13, Clamped2-function2:8.67e-13\n",
      "Norm diffs: Unclamped3 -clamped3: 4.26e-10, Unclamped3-function3:6.46e-10, Clamped3-function3:2.2e-10\n",
      "Norm diffs: Unclamped4 -clamped4: 2.49e-06, Unclamped4-function4:4.22e-06, Clamped4-function4:1.73e-06\n"
     ]
    }
   ],
   "source": [
    "# There seem to be issues with the transformation. \n",
    "# For starters, let's see if the kinda functions that go \n",
    "#   into semi-infinite domains can be accurately differentiated in Cheb\n",
    "N = 81; Y = 15\n",
    "eta, DMch = chebdif(2*N+2,4)\n",
    "DMchcl = cheb4c(2*N+2,returnAll=True)\n",
    "eta = eta[1:N+1]\n",
    "DMch = np.ascontiguousarray(DMch[1:N+1,1:N+1]) # DMch includes wall nodes\n",
    "DMchcl = np.ascontiguousarray(DMchcl[:N,:N])\n",
    "# DMchcl is returned without wall nodes from cheb4c\n",
    "y = -Y*np.log(eta) # physical coords in semi-infinite domain\n",
    "f = (y**2)* np.exp(-y)\n",
    "\n",
    "# Calculating derivatives directly from channel diff mats instead of bulding\n",
    "#    diff mats for BLs. \n",
    "feta1 = np.dot(DMch[:,:,0], f)  # From unclamped D1\n",
    "feta1cl = np.dot(DMchcl[:,:,0], f)  # From clamped D1\n",
    "feta1_ = (Y/eta) * (eta**Y) *( (Y*np.log(eta))**2  + 2.* (Y* np.log(eta)) ) #From function\n",
    "\n",
    "w = clencurt(2*N+2)\n",
    "w = w[1:N+1]\n",
    "\n",
    "\n",
    "normdiff1 = np.dot(w,feta1-feta1cl)\n",
    "normdiff2 = np.dot(w,feta1-feta1_ )\n",
    "normdiff3 = np.dot(w,feta1cl-feta1_)\n",
    "\n",
    "print(\"Norm diffs: Unclamped -clamped: %.3g, Unclamped-function:%.3g, Clamped-function:%.3g\"%(normdiff1,normdiff2,normdiff3))\n",
    "\n",
    "feta2 = np.dot(DMch[:,:,1], f)  # From unclamped D2\n",
    "feta2cl = np.dot(DMchcl[:,:,1], f)  # From clamped D2\n",
    "feta2_ = (Y/eta**2) * (eta**Y) *( 2.*Y  + (4.*Y-2.) * (Y* np.log(eta))  + (Y-1.)* (Y*np.log(eta))**2   ) #From function\n",
    "\n",
    "normdiff21 = np.dot(w,feta2-feta2cl)\n",
    "normdiff22 = np.dot(w,feta2-feta2_ )\n",
    "normdiff23 = np.dot(w,feta2cl-feta2_)\n",
    "\n",
    "print(\"Norm diffs: Unclamped2 -clamped2: %.3g, Unclamped2-function2:%.3g, Clamped2-function2:%.3g\"%(normdiff21,normdiff22,normdiff23))\n",
    "\n",
    "feta3 = np.dot(DMch[:,:,2], f)  # From unclamped D3\n",
    "feta3cl = np.dot(DMchcl[:,:,2], f)  # From clamped D3\n",
    "feta3_ = (Y/eta**3) * (eta**Y) *( -6.*Y+ 6.*Y**2  \\\n",
    "                                 + (4. - 12.*Y + 6.*Y**2 ) * (Y* np.log(eta))  \\\n",
    "                                 + (2. - 3.*Y + Y**2 )* (Y*np.log(eta))**2   ) #From function\n",
    "\n",
    "normdiff31 = np.dot(w,feta3-feta3cl)\n",
    "normdiff32 = np.dot(w,feta3-feta3_ )\n",
    "normdiff33 = np.dot(w,feta3cl-feta3_)\n",
    "\n",
    "print(\"Norm diffs: Unclamped3 -clamped3: %.3g, Unclamped3-function3:%.3g, Clamped3-function3:%.3g\"%(normdiff31,normdiff32,normdiff33))\n",
    "\n",
    "feta4 = np.dot(DMch[:,:,3], f)  # From unclamped D4\n",
    "feta4cl = np.dot(DMchcl[:,:,3], f)  # From clamped D4\n",
    "feta4_ = (Y/eta**4) * (eta**Y) *( 22.*Y - 36.*Y**2 + 12.*Y**3 \\\n",
    "                                 + (-12. + 44.*Y - 36.*Y**2 + 8.*Y**3 ) * (Y* np.log(eta))  \\\n",
    "                                 + (-6. + 11.*Y - 6.*Y**2 + Y**3 )* (Y*np.log(eta))**2   ) #From function\n",
    "\n",
    "normdiff41 = np.dot(w,feta4-feta4cl)\n",
    "normdiff42 = np.dot(w,feta4-feta4_ )\n",
    "normdiff43 = np.dot(w,feta4cl-feta4_)\n",
    "\n",
    "print(\"Norm diffs: Unclamped4 -clamped4: %.3g, Unclamped4-function4:%.3g, Clamped4-function4:%.3g\"%(normdiff41,normdiff42,normdiff43))"
   ]
  },
  {
   "cell_type": "markdown",
   "metadata": {
    "collapsed": true,
    "deletable": true,
    "editable": true
   },
   "source": [
    "## Assembling y-derivs from eta-derivs, still without building BL diff mats"
   ]
  },
  {
   "cell_type": "code",
   "execution_count": 16,
   "metadata": {
    "collapsed": false,
    "deletable": true,
    "editable": true
   },
   "outputs": [
    {
     "name": "stdout",
     "output_type": "stream",
     "text": [
      "Norm diffs for fy1: Unclamped -clamped: 5.63e-15, Unclamped-function:-2.7e-15, Clamped-function:-8.33e-15\n",
      "Norm diffs for fy2: Unclamped -clamped: -7e-14, Unclamped-function:-2.51e-14, Clamped-function:4.49e-14\n",
      "Norm diffs for fy3: Unclamped -clamped: -2.05e-12, Unclamped-function:-2.9e-12, Clamped-function:-8.43e-13\n",
      "Norm diffs for fy4: Unclamped -clamped: 7.54e-10, Unclamped-function:1.25e-09, Clamped-function:4.95e-10\n"
     ]
    }
   ],
   "source": [
    "w = clencurtBL(N)\n",
    "\n",
    "fy1   = (-1./Y) * (eta * feta1)\n",
    "fy1cl = (-1./Y) * (eta * feta1cl)\n",
    "fy1_  = np.exp(-y) * (2.*y - y**2)\n",
    "\n",
    "normdiff1 = np.dot(w,fy1-fy1cl)\n",
    "normdiff2 = np.dot(w,fy1-fy1_ )\n",
    "normdiff3 = np.dot(w,fy1cl-fy1_)\n",
    "\n",
    "print(\"Norm diffs for fy1: Unclamped -clamped: %.3g, Unclamped-function:%.3g, Clamped-function:%.3g\"%(normdiff1,normdiff2,normdiff3))\n",
    "\n",
    "fy2   = (1./Y**2) * (eta * feta1   + eta**2 * feta2  )\n",
    "fy2cl = (1./Y**2) * (eta * feta1cl + eta**2 * feta2cl)\n",
    "fy2_  = np.exp(-y) * (2. -4.*y + y**2)\n",
    "\n",
    "normdiff21 = np.dot(w,fy2-fy2cl)\n",
    "normdiff22 = np.dot(w,fy2-fy2_ )\n",
    "normdiff23 = np.dot(w,fy2cl-fy2_)\n",
    "\n",
    "print(\"Norm diffs for fy2: Unclamped -clamped: %.3g, Unclamped-function:%.3g, Clamped-function:%.3g\"%(normdiff21,normdiff22,normdiff23))\n",
    "\n",
    "fy3   = (-1./Y**3) * (eta * feta1  +  3.*eta**2 * feta2   + eta**2 * feta3  )\n",
    "fy3cl = (-1./Y**3) * (eta * feta1cl+  3.*eta**2 * feta2cl + eta**2 * feta3cl)\n",
    "fy3_  = np.exp(-y) * (-6. + 6.*y - y**2)\n",
    "\n",
    "normdiff31 = np.dot(w,fy3-fy3cl)\n",
    "normdiff32 = np.dot(w,fy3-fy3_ )\n",
    "normdiff33 = np.dot(w,fy3cl-fy3_)\n",
    "\n",
    "print(\"Norm diffs for fy3: Unclamped -clamped: %.3g, Unclamped-function:%.3g, Clamped-function:%.3g\"%(normdiff31,normdiff32,normdiff33))\n",
    "\n",
    "fy4   = (1./Y**4) * (eta * feta1   +  7.*eta**2 * feta2   +  6.*eta**3 * feta3   + eta**4 * feta4  )\n",
    "fy4cl = (1./Y**4) * (eta * feta1cl +  7.*eta**2 * feta2cl +  6.*eta**3 * feta3cl + eta**4 * feta4cl)\n",
    "fy4_  = np.exp(-y) * (12. - 8.*y + y**2)\n",
    "\n",
    "normdiff41 = np.dot(w,fy4-fy4cl)\n",
    "normdiff42 = np.dot(w,fy4-fy4_ )\n",
    "normdiff43 = np.dot(w,fy4cl-fy4_)\n",
    "\n",
    "print(\"Norm diffs for fy4: Unclamped -clamped: %.3g, Unclamped-function:%.3g, Clamped-function:%.3g\"%(normdiff41,normdiff42,normdiff43))\n",
    "\n",
    "\n"
   ]
  },
  {
   "cell_type": "markdown",
   "metadata": {
    "collapsed": true,
    "deletable": true,
    "editable": true
   },
   "source": [
    "## Building BL diff mats explicitly"
   ]
  },
  {
   "cell_type": "code",
   "execution_count": 23,
   "metadata": {
    "collapsed": false,
    "deletable": true,
    "editable": true
   },
   "outputs": [
    {
     "name": "stdout",
     "output_type": "stream",
     "text": [
      "Norm diffs for fy1: Unclamped -clamped: 5.41e-15, Unclamped-function:2.31e-15, Clamped-function:-3.1e-15\n",
      "Norm diffs for fy2: Unclamped -clamped: -1.89e-14, Unclamped-function:1.84e-14, Clamped-function:3.73e-14\n",
      "Norm diffs for fy3: Unclamped -clamped: 8.85e-14, Unclamped-function:-4.38e-13, Clamped-function:-5.27e-13\n",
      "Norm diffs for fy4: Unclamped -clamped: 1.59e-09, Unclamped-function:2.12e-09, Clamped-function:5.3e-10\n"
     ]
    }
   ],
   "source": [
    "w = clencurtBL(N)\n",
    "\n",
    "eta = eta.reshape((eta.size,1))\n",
    "\n",
    "D1   = (-1./Y) * (eta * DMch[:,:,0]  )\n",
    "D1cl = (-1./Y) * (eta * DMchcl[:,:,0])\n",
    "fy1  = np.dot(D1  ,f)\n",
    "fy1cl= np.dot(D1cl,f)\n",
    "fy1_  = np.exp(-y) * (2.*y - y**2)\n",
    "\n",
    "normdiff1 = np.dot(w,fy1-fy1cl)\n",
    "normdiff2 = np.dot(w,fy1-fy1_ )\n",
    "normdiff3 = np.dot(w,fy1cl-fy1_)\n",
    "\n",
    "print(\"Norm diffs for fy1: Unclamped -clamped: %.3g, Unclamped-function:%.3g, Clamped-function:%.3g\"%(normdiff1,normdiff2,normdiff3))\n",
    "\n",
    "D2   = (1./Y**2) * (eta * DMch[:,:,0]   + eta**2 * DMch[:,:,1]  )\n",
    "D2cl = (1./Y**2) * (eta * DMchcl[:,:,0] + eta**2 * DMchcl[:,:,1])\n",
    "fy2  = np.dot(D2  ,f)\n",
    "fy2cl= np.dot(D2cl,f)\n",
    "fy2_  = np.exp(-y) * (2. -4.*y + y**2)\n",
    "\n",
    "normdiff21 = np.dot(w,fy2-fy2cl)\n",
    "normdiff22 = np.dot(w,fy2-fy2_ )\n",
    "normdiff23 = np.dot(w,fy2cl-fy2_)\n",
    "\n",
    "print(\"Norm diffs for fy2: Unclamped -clamped: %.3g, Unclamped-function:%.3g, Clamped-function:%.3g\"%(normdiff21,normdiff22,normdiff23))\n",
    "\n",
    "\n",
    "D3   = (-1./Y**3) * (eta * DMch[:,:,0]   + 3.*eta**2 * DMch[:,:,1]   + eta**3 * DMch[:,:,2]  )\n",
    "D3cl = (-1./Y**3) * (eta * DMchcl[:,:,0] + 3.*eta**2 * DMchcl[:,:,1] + eta**3 * DMchcl[:,:,2])\n",
    "fy3  = np.dot(D3  ,f)\n",
    "fy3cl= np.dot(D3cl,f)\n",
    "\n",
    "fy3_  = np.exp(-y) * (-6. + 6.*y - y**2)\n",
    "\n",
    "normdiff31 = np.dot(w,fy3-fy3cl)\n",
    "normdiff32 = np.dot(w,fy3-fy3_ )\n",
    "normdiff33 = np.dot(w,fy3cl-fy3_)\n",
    "\n",
    "print(\"Norm diffs for fy3: Unclamped -clamped: %.3g, Unclamped-function:%.3g, Clamped-function:%.3g\"%(normdiff31,normdiff32,normdiff33))\n",
    "\n",
    "D4   = (1./Y**4) * (eta * DMch[:,:,0]   + 7.*eta**2 * DMch[:,:,1]   + 6.*eta**3 * DMch[:,:,2]   + eta**4 * DMch[:,:,3]  )\n",
    "D4cl = (1./Y**4) * (eta * DMchcl[:,:,0] + 7.*eta**2 * DMchcl[:,:,1] + 6.*eta**3 * DMchcl[:,:,2] + eta**4 * DMchcl[:,:,3])\n",
    "fy4  = np.dot(D4  , f)\n",
    "fy4cl= np.dot(D4cl, f)\n",
    "fy4_  = np.exp(-y) * (12. - 8.*y + y**2)\n",
    "\n",
    "normdiff41 = np.dot(w,fy4-fy4cl)\n",
    "normdiff42 = np.dot(w,fy4-fy4_ )\n",
    "normdiff43 = np.dot(w,fy4cl-fy4_)\n",
    "\n",
    "print(\"Norm diffs for fy4: Unclamped -clamped: %.3g, Unclamped-function:%.3g, Clamped-function:%.3g\"%(normdiff41,normdiff42,normdiff43))\n",
    "\n",
    "\n",
    "\n",
    "\n",
    "\n"
   ]
  },
  {
   "cell_type": "code",
   "execution_count": null,
   "metadata": {
    "collapsed": true,
    "deletable": true,
    "editable": true
   },
   "outputs": [],
   "source": []
  },
  {
   "cell_type": "code",
   "execution_count": null,
   "metadata": {
    "collapsed": true,
    "deletable": true,
    "editable": true
   },
   "outputs": [],
   "source": []
  },
  {
   "cell_type": "code",
   "execution_count": null,
   "metadata": {
    "collapsed": true,
    "deletable": true,
    "editable": true
   },
   "outputs": [],
   "source": []
  },
  {
   "cell_type": "code",
   "execution_count": null,
   "metadata": {
    "collapsed": true,
    "deletable": true,
    "editable": true
   },
   "outputs": [],
   "source": []
  },
  {
   "cell_type": "code",
   "execution_count": 9,
   "metadata": {
    "collapsed": false,
    "deletable": true,
    "editable": true
   },
   "outputs": [
    {
     "name": "stderr",
     "output_type": "stream",
     "text": [
      "/home/sabarish/Dropbox/melb/code/library/pseudo.py:490: UserWarning: Differentiation matrices for BLs only work on quantities that go to 0 as y -> inf.\n",
      "  warn(\"Differentiation matrices for BLs only work on quantities that go to 0 as y -> inf.\")\n"
     ]
    }
   ],
   "source": [
    "N = 50; Y = 10\n",
    "y,DM = chebdifBL(N,Y)\n",
    "D1 = DM[:,:,0]\n",
    "D2 = DM[:,:,1]\n",
    "D3 = DM[:,:,2]\n",
    "\n",
    "U,dU = blasius.blasius(y)"
   ]
  },
  {
   "cell_type": "code",
   "execution_count": 11,
   "metadata": {
    "collapsed": false,
    "deletable": true,
    "editable": true
   },
   "outputs": [
    {
     "data": {
      "text/plain": [
       "<matplotlib.collections.PathCollection at 0x7fb7339d2940>"
      ]
     },
     "execution_count": 11,
     "metadata": {},
     "output_type": "execute_result"
    },
    {
     "data": {
      "image/png": "[encoded data removed]",
      "text/plain": [
       "<matplotlib.figure.Figure at 0x7fb733a41080>"
      ]
     },
     "metadata": {},
     "output_type": "display_data"
    }
   ],
   "source": [
    "plt.scatter(y,U)"
   ]
  },
  {
   "cell_type": "code",
   "execution_count": 12,
   "metadata": {
    "collapsed": false,
    "deletable": true,
    "editable": true
   },
   "outputs": [
    {
     "data": {
      "text/plain": [
       "array([  1.92071945e+04,   6.33982194e+03,  -1.30521589e+03,\n",
       "         5.55453656e+02,  -3.06525785e+02,   1.93661150e+02,\n",
       "        -1.33004828e+02,   9.66123697e+01,  -7.31280903e+01,\n",
       "         5.70051396e+01,  -4.55765015e+01,   3.70295786e+01,\n",
       "        -3.06660568e+01,   2.55628032e+01,  -2.17070130e+01,\n",
       "         1.83765723e+01,  -1.59161013e+01,   1.35792559e+01,\n",
       "        -1.19640281e+01,   1.02254099e+01,  -9.14570082e+00,\n",
       "         7.80511776e+00,  -7.05489587e+00,   6.02447281e+00,\n",
       "        -5.44926948e+00,   4.69261064e+00,  -4.19417675e+00,\n",
       "         3.66466426e+00,  -3.21969668e+00,   2.83828585e+00,\n",
       "        -2.46789523e+00,   2.16570822e+00,  -1.87553064e+00,\n",
       "         1.62621221e+00,  -1.39844529e+00,   1.19591046e+00,\n",
       "        -1.01435228e+00,   8.52266534e-01,  -7.07887748e-01,\n",
       "         5.79779181e-01,  -4.66700613e-01,   3.67592792e-01,\n",
       "        -2.81555055e-01,   2.07828405e-01,  -1.45783413e-01,\n",
       "         9.49149212e-02,  -5.48509149e-02,   2.54036251e-02,\n",
       "        -6.78567725e-03,   4.19094721e-04])"
      ]
     },
     "execution_count": 12,
     "metadata": {},
     "output_type": "execute_result"
    }
   ],
   "source": [
    "np.dot(D3,U) + U*np.dot(D2,U)"
   ]
  },
  {
   "cell_type": "code",
   "execution_count": null,
   "metadata": {
    "collapsed": true,
    "deletable": true,
    "editable": true
   },
   "outputs": [],
   "source": []
  },
  {
   "cell_type": "code",
   "execution_count": null,
   "metadata": {
    "collapsed": true
   },
   "outputs": [],
   "source": []
  },
  {
   "cell_type": "markdown",
   "metadata": {},
   "source": [
    "# Comparing with my MATLAB script for makeSystem"
   ]
  },
  {
   "cell_type": "code",
   "execution_count": 3,
   "metadata": {
    "collapsed": false
   },
   "outputs": [
    {
     "name": "stdout",
     "output_type": "stream",
     "text": [
      "Using parameters Re=186, alfa=46.5, kapa=0.61, N=127\n",
      "Initialized instance of 'linearize', version 6.2.3.\n",
      "New in this version: pseudo module is defined for internal nodes \n",
      "To fix: Eddy viscosity, resolvent, and svd are currently not supported.\n",
      "structMat has not been supplied or is not a numpy array. Using one-point covariances for uu, vv, and ww, as well as the Reynolds shear stresses.\n",
      "a, b, Re: 2.5 6.666666666666667 186.0\n"
     ]
    },
    {
     "name": "stderr",
     "output_type": "stream",
     "text": [
      "/home/svadarevu/gitwork/linear/library/ops.py:191: UserWarning: To use eddy viscosity, pass kwarg 'nu'=self.nu to either makeSystem/makeAdjSystem, dynamicsMat, or OSS\n",
      "  warn(\"To use eddy viscosity, pass kwarg 'nu'=self.nu to either makeSystem/makeAdjSystem, dynamicsMat, or OSS\")\n",
      "/home/svadarevu/gitwork/linear/library/ops.py:227: UserWarning: dnu and d2nu are currently set to zero. Revisit this to implement eddy viscosity.\n",
      "  warn(\"dnu and d2nu are currently set to zero. Revisit this to implement eddy viscosity.\")\n"
     ]
    }
   ],
   "source": [
    "from scipy.io import savemat\n",
    "N = 127; Re=186.; a=2.5; b=20./3.\n",
    "\n",
    "statInst = ops.statComp(N=N, Re=Re, a=a, b=b, covMat = np.identity(3*N))\n",
    "\n",
    "Aphi = statInst.dynamicsMat(a=statInst.a, b=statInst.b)\n",
    "Cphi = statInst.velVor2primitivesMat(a=statInst.a, b=statInst.b)\n",
    "\n",
    "Delta = statInst.D2 - (a**2 + b**2) * np.identity(N)\n",
    "savemat('testMatrices127laika.mat', {\n",
    "       'Aphip':Aphi, 'Cphip':Cphi,\n",
    "        'D1p': statInst.D1, 'D2p': statInst.D2, 'D4p': statInst.D4,\n",
    "        'N': N, 'Re': Re, 'a':a, 'b':b, \n",
    "        'Up': statInst.U, 'dUp': statInst.dU, 'd2Up': statInst.d2U, \n",
    "        'Deltap': Delta})\n"
   ]
  },
  {
   "cell_type": "code",
   "execution_count": null,
   "metadata": {
    "collapsed": true
   },
   "outputs": [],
   "source": []
  }
 ],
 "metadata": {
  "kernelspec": {
   "display_name": "Python 3",
   "language": "python",
   "name": "python3"
  },
  "language_info": {
   "codemirror_mode": {
    "name": "ipython",
    "version": 3
   },
   "file_extension": ".py",
   "mimetype": "text/x-python",
   "name": "python",
   "nbconvert_exporter": "python",
   "pygments_lexer": "ipython3",
   "version": "3.5.2"
  }
 },
 "nbformat": 4,
 "nbformat_minor": 1
}
