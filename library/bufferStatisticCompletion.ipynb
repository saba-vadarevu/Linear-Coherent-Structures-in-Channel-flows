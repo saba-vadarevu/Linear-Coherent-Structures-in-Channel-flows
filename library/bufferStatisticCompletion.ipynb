{
 "cells": [
  {
   "cell_type": "code",
   "execution_count": 1,
   "metadata": {
    "collapsed": true,
    "deletable": true,
    "editable": true
   },
   "outputs": [],
   "source": [
    "%load_ext autoreload\n",
    "%autoreload 2"
   ]
  },
  {
   "cell_type": "code",
   "execution_count": 23,
   "metadata": {
    "collapsed": true,
    "deletable": true,
    "editable": true
   },
   "outputs": [],
   "source": [
    "import numpy as np\n",
    "import scipy as sp\n",
    "from scipy.interpolate import interp1d\n",
    "import matplotlib.pyplot as plt\n",
    "import sys\n",
    "import pseudo\n",
    "import os\n",
    "import glob\n",
    "import miscUtil\n",
    "import ops\n",
    "%matplotlib inline\n",
    "\n",
    "if False:\n",
    "    # Paths for Laika\n",
    "    physDataDir = '/home/svadarevu/gitwork/linear/data/'\n",
    "    covDataDir = '/home/svadarevu/gitwork/linear/cov/'\n",
    "    specDataDir = '/kepler/sabarish/data/r590/FF/'\n",
    "    libDir = '/home/svadarevu/gitwork/linear/library/'\n",
    "    #sys.path.append('/home/svadarevu/gitwork/linear/library/')\n",
    "else:\n",
    "    physDataDir = '/media/sabarish/channelData/R590/phys/'\n",
    "    specDataDir = '/media/sabarish/channelData/R590/spec/'\n",
    "    covDataDir =  '/media/sabarish/channelData/R590/cov/'"
   ]
  },
  {
   "cell_type": "code",
   "execution_count": null,
   "metadata": {
    "collapsed": true
   },
   "outputs": [],
   "source": []
  },
  {
   "cell_type": "markdown",
   "metadata": {
    "deletable": true,
    "editable": true
   },
   "source": [
    "# Testing CC_AMA code"
   ]
  },
  {
   "cell_type": "code",
   "execution_count": null,
   "metadata": {
    "collapsed": true,
    "deletable": true,
    "editable": true
   },
   "outputs": [],
   "source": [
    "os.chdir(libDir)\n",
    "%run test_minimize.py\n",
    "#os.chdir(specDataDir)"
   ]
  },
  {
   "cell_type": "markdown",
   "metadata": {
    "deletable": true,
    "editable": true
   },
   "source": [
    "# Testing the Schur decomposition thingy\n",
    "## $ Z = BH^* + HB^*$"
   ]
  },
  {
   "cell_type": "code",
   "execution_count": null,
   "metadata": {
    "collapsed": true,
    "deletable": true,
    "editable": true
   },
   "outputs": [],
   "source": [
    "# The decomposition should work for any Hermitian matrix,\n",
    "Z = np.random.randn(21,21) + 1.j*np.random.randn(21,21)\n",
    "Z = Z + Z.conj().T\n",
    "\n",
    "B,H,S = ops.decomposeZ(Z)\n",
    "print(\"Error in the decomposition for some random Hermitian matrix is,\",\n",
    "np.linalg.norm(\n",
    "    Z - \n",
    "    (B @ H.conj().T + H @ B.conj().T),\n",
    "    ord=2) )"
   ]
  },
  {
   "cell_type": "markdown",
   "metadata": {
    "deletable": true,
    "editable": true
   },
   "source": [
    "# Convergence for Re=186\n",
    "## Successive averages of U for 5 flow-throughs each"
   ]
  },
  {
   "cell_type": "code",
   "execution_count": null,
   "metadata": {
    "collapsed": true,
    "deletable": true,
    "editable": true
   },
   "outputs": [],
   "source": [
    "avgDir = '/media/sabarish/channelData/R186/avg/'\n",
    "Uarr = np.zeros((20,192))\n",
    "for n in range(20):\n",
    "    for ti in range(100):\n",
    "        t = (100*n + ti)*50+50000\n",
    "        fName = avgDir + 'u_avg_it%d.dat'%t\n",
    "        with open(fName,'r') as inFile:\n",
    "            Uarr[n] = Uarr[n] + np.loadtxt(inFile, dtype=np.float64)[3:-3]\n",
    "Uarr = Uarr/100."
   ]
  },
  {
   "cell_type": "code",
   "execution_count": null,
   "metadata": {
    "collapsed": true,
    "deletable": true,
    "editable": true
   },
   "outputs": [],
   "source": [
    "z = pseudo.chebdif(194,1)[0][1:-1]\n",
    "for n in range(10,20):\n",
    "    plt.plot(z, (Uarr[n] - Uarr[-1])/Uarr[-1])\n",
    "plt.show()\n",
    "\n",
    "plt.figure()\n",
    "for n in range(14):\n",
    "    plt.plot(z, Uarr[n])\n",
    "plt.show()\n"
   ]
  },
  {
   "cell_type": "markdown",
   "metadata": {
    "deletable": true,
    "editable": true
   },
   "source": [
    "## Linear shear stress profile\n",
    "For stationary turbulent channel flow, the mean and fluctuating velocities must go as\n",
    "$\\frac{dU^+}{dz^+} - \\big< u'w'\\big> ^+ \\approx 1- \\frac{z'}{h} $\n",
    "\n",
    "Note: This $z'$ goes from 0 to $h$ only, and not $-h$ to $h$. "
   ]
  },
  {
   "cell_type": "code",
   "execution_count": null,
   "metadata": {
    "collapsed": true,
    "deletable": true,
    "editable": true
   },
   "outputs": [],
   "source": [
    "# Plotting the residual in the shear stress for the last 50 flow through times,\n",
    "#   10 flow-throughs at a time\n",
    "# Each flow-through corresponds to an n_timeSteps = 1000\n",
    "# I save fields at every 50 timeSteps, so average over every 200 files\n",
    "# Let's start from the last snapshot\n",
    "meanFilePrefix = os.environ['DATA186']+'avg/u_avg_it'\n",
    "rssFilePrefix = os.environ['DATA186']+'avg/wu_corr_it'\n",
    "\n",
    "UArr = np.zeros((5,192))\n",
    "UzArr = UArr.copy()\n",
    "rssArr = np.zeros((5,192))\n",
    "z,D = pseudo.chebdif(194,1)\n",
    "z = z[1:-1]; D = D[1:-1,1:-1]\n",
    "D = D.reshape((192,192))\n",
    "\n",
    "for n in range(5):\n",
    "    for ti in range(200):\n",
    "        t = 150000 - (200*n+ti)*50\n",
    "        mfName = meanFilePrefix + '%d.dat'%t\n",
    "        rssfName = rssFilePrefix + '%d.dat'%t\n",
    "        with open(mfName,'r') as inFile:\n",
    "            U = np.loadtxt(inFile, dtype=np.float)\n",
    "        with open(rssfName,'r') as inFile:\n",
    "            rss = np.loadtxt(inFile, dtype=np.float)\n",
    "        UArr[n] = UArr[n] + U[3:-3]\n",
    "        #print('UCL=',U[99])\n",
    "        rssArr[n] = rssArr[n] + rss[3:-3]\n",
    "    print(UArr[n,99])\n",
    "    UzArr[n] = D @ UArr[n]\n",
    "\n",
    "UArr = UArr/200.\n",
    "rssArr = rssArr/200.\n",
    "UzArr = UzArr/200.\n",
    "    \n",
    "    \n",
    "print(UArr[:,99])        "
   ]
  },
  {
   "cell_type": "code",
   "execution_count": null,
   "metadata": {
    "collapsed": true,
    "deletable": true,
    "editable": true
   },
   "outputs": [],
   "source": [
    "ztmp = np.loadtxt(os.environ['DATA186']+'avg/zp.dat',dtype=np.float)\n",
    "UDNS = np.zeros(194)   # Including nodes at the walls\n",
    "zDNS = np.zeros(194)\n",
    "rssDNS = np.zeros(194)\n",
    "UDNS[1:-1] = UArr[-1]\n",
    "rssDNS[1:-1] = rssArr[-1]\n",
    "zDNS[1:-1] = ztmp[3:-3]\n",
    "zDNS[-1] = 2.\n",
    "########\n",
    "nInd = 1\n",
    "UDNS[:nInd] = zDNS[:nInd]\n",
    "UDNS[-nInd:] = UDNS[nInd-1::-1]\n",
    "\n",
    "###########\n",
    "\n",
    "\n",
    "Ufun = interp1d(zDNS,UDNS,kind='cubic')\n",
    "rssfun = interp1d(zDNS,rssDNS,kind='cubic')\n",
    "z,D = pseudo.chebdif(194,1)\n",
    "z = 1. - z[1:-1]\n",
    "#z = 1.-z\n",
    "D = D[1:-1,1:-1,0]\n",
    "#D = D[:,:,0]\n",
    "U = Ufun(z)\n",
    "\n",
    "########\n",
    "nInd = 0\n",
    "U[:nInd] = z[:nInd]\n",
    "U[-nInd:] = U[nInd-1::-1]\n",
    "\n",
    "###########\n",
    "\n",
    "rss = rssfun(z)\n",
    "Uz = D @ U\n",
    "\n",
    "residual = -Uz/186. - rss\n",
    "\n",
    "plt.plot(z, residual)\n",
    "plt.show()"
   ]
  },
  {
   "cell_type": "code",
   "execution_count": null,
   "metadata": {
    "collapsed": true,
    "deletable": true,
    "editable": true
   },
   "outputs": [],
   "source": []
  },
  {
   "cell_type": "code",
   "execution_count": null,
   "metadata": {
    "collapsed": true,
    "deletable": true,
    "editable": true
   },
   "outputs": [],
   "source": []
  },
  {
   "cell_type": "markdown",
   "metadata": {
    "deletable": true,
    "editable": true
   },
   "source": [
    "# Testing finite differences for DNS"
   ]
  },
  {
   "cell_type": "code",
   "execution_count": null,
   "metadata": {
    "collapsed": true,
    "deletable": true,
    "editable": true
   },
   "outputs": [],
   "source": [
    "zDNS = np.loadtxt(os.environ['DATA186']+'avg/zp.dat',dtype=np.float)\n",
    "nz = 192\n",
    "indArr = np.arange(nz)\n",
    "# Defining cells: \n",
    "ztmp1 = np.cos(np.pi * indArr/nz)   # Top edge of internal cell, cos(n*pi/N) for n=0 to N-1\n",
    "ztmp2 = np.cos(np.pi * (indArr+1)/nz)   # Bottom edge of internal cell, cos(n*pi/N) for n=1 to N\n",
    "zCC = 0.5*(ztmp1 + ztmp2)\n",
    "dz = ztmp1 - ztmp2\n",
    "plt.plot(zCC, (1.-zDNS[3:-3])-zCC)\n",
    "plt.show()\n",
    "zDNS[3:-3] = 1.-zCC\n",
    "#zDNS[:98:-1] = 2. - zDNS[:99]\n",
    "\n",
    "Utest = (1. - (1. - zDNS)**2 )\n",
    "#Utest = np.loadtxt(os.environ['DATA186']+'avg/u_avg_it150000.dat',dtype=np.float)\n",
    "Utest[2::-1] = -Utest[3:6]\n",
    "Utest[:194:-1] = -Utest[192:195] \n",
    "d2Utest = miscUtil.DNSderivs(Utest)\n",
    "if False:\n",
    "    plt.semilogx(186*zDNS[3:], Utest[3:],'x-')\n",
    "    plt.xlim([0.,150.])\n",
    "    plt.show()\n",
    "\n",
    "print(\"Velocity profile is 1-z^2, whose second derivative is -2\")\n",
    "print(\"This plot shows that there are no weird scaling factors showing up\")\n",
    "plt.figure()\n",
    "plt.semilogx(186*zDNS[3:-3], d2Utest[:],'x-')\n",
    "plt.xlim([0.,150.])\n",
    "#plt.ylim([-3000.,0.])\n",
    "plt.ylim([-1.9,-2.1])\n",
    "plt.show()\n",
    "\n",
    "print(\"Repeating for (1-z^2)^2, whose second derivative is -4+12z^2\")\n",
    "Utest = (1. - (1. - zDNS)**2 )**2\n",
    "Utest = 0.5*(Utest + Utest[::-1])\n",
    "#Utest = np.loadtxt(os.environ['DATA186']+'avg/u_avg_it150000.dat',dtype=np.float)\n",
    "#Utest[2::-1] = -Utest[3:6]\n",
    "#Utest[:194:-1] = -Utest[192:195] \n",
    "d2Utest = miscUtil.DNSderivs(Utest)\n",
    "if False:\n",
    "    plt.semilogx(186*zDNS[3:], Utest[3:],'x-')\n",
    "    plt.xlim([0.,150.])\n",
    "    plt.show()\n",
    "\n",
    "d2f = -4. + 12.*(1.-zDNS[3:-3])**2\n",
    "plt.figure()\n",
    "plt.plot(zDNS[6:-6], (d2Utest[3:-3]-d2f[3:-3]), 'rx-')\n",
    "plt.title('Error in second derivative')\n",
    "plt.show()\n",
    "\n",
    "print(\"Relative error is ~ 10^-3\")\n",
    "plt.figure()\n",
    "plt.plot(zDNS[6:-6], d2Utest[3:-3], zDNS[6:-6],d2f[3:-3])\n",
    "plt.title('Analytical value for second derivative')\n",
    "plt.show()\n",
    "\n",
    "print(\"Repeating for (1-z^2)^4, whose second derivative is -6 + 36z^2 -30z^4\")\n",
    "Utest = (1. - (1. - zDNS)**2 )**4\n",
    "Utest = 0.5*(Utest + Utest[::-1])\n",
    "#Utest = np.loadtxt(os.environ['DATA186']+'avg/u_avg_it150000.dat',dtype=np.float)\n",
    "#Utest[2::-1] = -Utest[3:6]\n",
    "#Utest[:194:-1] = -Utest[192:195] \n",
    "d2Utest = miscUtil.DNSderivs(Utest)\n",
    "if False:\n",
    "    plt.semilogx(186*zDNS[3:], Utest[3:],'x-')\n",
    "    plt.xlim([0.,150.])\n",
    "    plt.show()\n",
    "\n",
    "d2f = -6. + 36.*(1.-zDNS[3:-3])**2 - 30.*(1.-zDNS[3:-3])**4\n",
    "plt.figure()\n",
    "plt.plot(zDNS[6:-6], (d2Utest[3:-3]-d2f[3:-3]), 'rx-')\n",
    "plt.title('Error in second derivative')\n",
    "plt.show()\n",
    "\n",
    "print(\"Relative error is ~ 10^-3\")\n",
    "plt.figure()\n",
    "plt.plot(zDNS[6:-6], d2Utest[3:-3], zDNS[6:-6],d2f[3:-3])\n",
    "plt.title('Analytical value for second derivative')\n",
    "plt.show()\n",
    "\n"
   ]
  },
  {
   "cell_type": "code",
   "execution_count": null,
   "metadata": {
    "collapsed": true,
    "deletable": true,
    "editable": true
   },
   "outputs": [],
   "source": [
    "plt.semilogy(zDNS, np.abs(Utest - Utest[::-1]))\n",
    "plt.semilogy(zDNS[3:-3], np.abs(d2Utest - d2Utest[::-1]))\n",
    "#plt.semilogy(zDNS, np.abs(Utest - Utest[::-1]))\n",
    "plt.show()"
   ]
  },
  {
   "cell_type": "code",
   "execution_count": 5,
   "metadata": {
    "collapsed": false,
    "deletable": true,
    "editable": true
   },
   "outputs": [
    {
     "name": "stdout",
     "output_type": "stream",
     "text": [
      "Mean velocity from a DNS snapshot\n"
     ]
    },
    {
     "name": "stderr",
     "output_type": "stream",
     "text": [
      "/home/sabarish/Dropbox/melb/code/library/miscUtil.py:169: UserWarning: Ensure that the inputs, U and z, include 3 ghost cells along wall-normal on either side\n",
      "  warn('Ensure that the inputs, U and z, include 3 ghost cells along wall-normal on either side')\n",
      "/home/sabarish/Dropbox/melb/code/library/miscUtil.py:170: UserWarning: Test this function with simple cubic profile on z\n",
      "  warn(\"Test this function with simple cubic profile on z\")\n"
     ]
    },
    {
     "data": {
      "image/png": "[encoded data removed]",
      "text/plain": [
       "<matplotlib.figure.Figure at 0x7fde1710b828>"
      ]
     },
     "metadata": {},
     "output_type": "display_data"
    },
    {
     "name": "stdout",
     "output_type": "stream",
     "text": [
      "This plot shows that, for U from DNS, the derivative is smooth\n"
     ]
    },
    {
     "data": {
      "image/png": "[encoded data removed]",
      "text/plain": [
       "<matplotlib.figure.Figure at 0x7fde173004e0>"
      ]
     },
     "metadata": {},
     "output_type": "display_data"
    }
   ],
   "source": [
    "print(\"Mean velocity from a DNS snapshot\")\n",
    "zDNS = np.loadtxt(os.environ['DATA186']+'avg/zp.dat',dtype=np.float)\n",
    "#Utest = (1. - (1. - zDNS)**2 )\n",
    "Utest = np.loadtxt(os.environ['DATA186']+'avg/u_avg_it150000.dat',dtype=np.float)\n",
    "#Utest[2::-1] = -Utest[3:6]\n",
    "#Utest[:194:-1] = -Utest[192:195] \n",
    "d2Utest = miscUtil.DNSderivs(Utest)\n",
    "plt.semilogx(186*zDNS[3:], Utest[3:],'x-')\n",
    "plt.xlim([0.,150.])\n",
    "plt.show()\n",
    "\n",
    "print(\"This plot shows that, for U from DNS, the derivative is smooth\")\n",
    "plt.figure()\n",
    "plt.semilogx(186*zDNS[3:-3], d2Utest[:],'x-')\n",
    "plt.xlim([0.,150.])\n",
    "plt.ylim([-3000.,0.])\n",
    "#plt.ylim([-3.,3.])\n",
    "plt.show()"
   ]
  },
  {
   "cell_type": "markdown",
   "metadata": {
    "deletable": true,
    "editable": true
   },
   "source": [
    "## Analytical U profile for turbulent channel"
   ]
  },
  {
   "cell_type": "code",
   "execution_count": 8,
   "metadata": {
    "collapsed": false,
    "deletable": true,
    "editable": true
   },
   "outputs": [
    {
     "data": {
      "image/png": "[encoded data removed]",
      "text/plain": [
       "<matplotlib.figure.Figure at 0x7fde16f2d7f0>"
      ]
     },
     "metadata": {},
     "output_type": "display_data"
    }
   ],
   "source": [
    "from scipy.integrate import quad\n",
    "a = 25.4\n",
    "k = 0.426\n",
    "Re = 186.\n",
    "nuT = lambda zt: -0.5 + 0.5*np.sqrt( 1.+\n",
    "    (k*Re/3.* (2.*zt - zt**2) * (3. - 4.*zt + 2.*zt**2) *\n",
    "         (1. - np.exp( (np.abs(zt-1.)-1.)*Re/a )   )    )**2)\n",
    "intFun = lambda xi: Re * (1.-xi)/(1. + nuT(xi)) \n",
    "zArr,DM = pseudo.chebdif(194,2)\n",
    "D2 = DM[:,:,1]\n",
    "zArr= 1.+zArr\n",
    "#zArr = zDNS[3:-3]\n",
    "UArr = np.zeros(zArr.size)\n",
    "\n",
    "\n",
    "for ind in range(zArr.size):\n",
    "    UArr[ind] = quad( intFun, 0., zArr[ind])[0]\n",
    "\n",
    "d2UArr = D2 @ UArr    \n",
    "plt.plot(zArr, UArr)\n",
    "plt.show()\n",
    "\n"
   ]
  },
  {
   "cell_type": "code",
   "execution_count": 9,
   "metadata": {
    "collapsed": false,
    "deletable": true,
    "editable": true
   },
   "outputs": [
    {
     "data": {
      "image/png": "[encoded data removed]",
      "text/plain": [
       "<matplotlib.figure.Figure at 0x7fde16f24e80>"
      ]
     },
     "metadata": {},
     "output_type": "display_data"
    },
    {
     "data": {
      "image/png": "[encoded data removed]",
      "text/plain": [
       "<matplotlib.figure.Figure at 0x7fde16e76828>"
      ]
     },
     "metadata": {},
     "output_type": "display_data"
    },
    {
     "data": {
      "image/png": "[encoded data removed]",
      "text/plain": [
       "<matplotlib.figure.Figure at 0x7fde1707ce80>"
      ]
     },
     "metadata": {},
     "output_type": "display_data"
    }
   ],
   "source": [
    "#d2Utest = miscUtil.DNSderivs(Utest)\n",
    "plt.semilogx(186*zArr, UArr,'x-')\n",
    "plt.xlim([0.,150.])\n",
    "plt.show()\n",
    "\n",
    "plt.figure()\n",
    "plt.plot(zArr,UArr,'r+-')\n",
    "plt.show()\n",
    "\n",
    "plt.figure()\n",
    "plt.semilogx(186*zArr, d2UArr[:],'x-')\n",
    "plt.xlim([0.,150.])\n",
    "#plt.ylim([-3000.,0.])\n",
    "plt.show()"
   ]
  },
  {
   "cell_type": "markdown",
   "metadata": {
    "deletable": true,
    "editable": true
   },
   "source": [
    "## Interpolating U using cubic splines"
   ]
  },
  {
   "cell_type": "code",
   "execution_count": 17,
   "metadata": {
    "collapsed": false,
    "deletable": true,
    "editable": true
   },
   "outputs": [
    {
     "data": {
      "image/png": "[encoded data removed]",
      "text/plain": [
       "<matplotlib.figure.Figure at 0x7f0d6e5d6550>"
      ]
     },
     "metadata": {},
     "output_type": "display_data"
    },
    {
     "name": "stdout",
     "output_type": "stream",
     "text": [
      "-8.995408584677733e-15 1.7208456881689926e-15\n"
     ]
    }
   ],
   "source": [
    "#zDNS = np.loadtxt(os.environ['DATA186']+'avg/zp.dat',dtype=np.float)\n",
    "zDNS = np.zeros(194)\n",
    "zDNS[1:-1] = miscUtil.nodesCellCenters(nCells=192)\n",
    "zDNS[0] = 1.; zDNS[-1] = -1.\n",
    "U = np.zeros(194)\n",
    "Utmp = np.loadtxt(os.environ['DATA186']+'avg/u_avg_it150000.dat',dtype=np.float)\n",
    "U[1:-1] = Utmp[3:-3]\n",
    "plt.plot(zDNS,U); plt.show()\n",
    "Ufun = interp1d(zDNS,U,kind='cubic')\n",
    "print(Ufun(-1.), Ufun(1))"
   ]
  },
  {
   "cell_type": "code",
   "execution_count": 28,
   "metadata": {
    "collapsed": false
   },
   "outputs": [
    {
     "data": {
      "image/png": "[encoded data removed]",
      "text/plain": [
       "<matplotlib.figure.Figure at 0x7f0d6e82deb8>"
      ]
     },
     "metadata": {},
     "output_type": "display_data"
    }
   ],
   "source": [
    "Unew2, z2 = miscUtil.interpDNS(Utmp[3:-3],nCheb=64)\n",
    "plt.figure()\n",
    "plt.plot(zDNS[3:-3],U[3:-3])\n",
    "plt.scatter(z2, Unew2,marker='x',color='r')\n",
    "plt.xlim([-0.8,-0.3])\n",
    "plt.show()"
   ]
  },
  {
   "cell_type": "code",
   "execution_count": 14,
   "metadata": {
    "collapsed": false,
    "deletable": true,
    "editable": true
   },
   "outputs": [
    {
     "data": {
      "image/png": "[encoded data removed]",
      "text/plain": [
       "<matplotlib.figure.Figure at 0x7f0d6e484b38>"
      ]
     },
     "metadata": {},
     "output_type": "display_data"
    }
   ],
   "source": [
    "z1 = pseudo.chebdif(193,1)[0]\n",
    "Unew = Ufun(z1)\n",
    "plt.figure()\n",
    "plt.plot(zDNS[3:-3],U[3:-3])\n",
    "plt.scatter(z1, Unew,marker='x',color='r')\n",
    "plt.xlim([-1.,-0.95])\n",
    "plt.show()"
   ]
  },
  {
   "cell_type": "code",
   "execution_count": 15,
   "metadata": {
    "collapsed": false
   },
   "outputs": [
    {
     "data": {
      "text/plain": [
       "array([  1.72084569e-15,  -8.99540858e-15])"
      ]
     },
     "execution_count": 15,
     "metadata": {},
     "output_type": "execute_result"
    }
   ],
   "source": [
    "Unew[[0,-1]]"
   ]
  },
  {
   "cell_type": "markdown",
   "metadata": {
    "deletable": true,
    "editable": true
   },
   "source": [
    "## Test Scipy's interpolation"
   ]
  },
  {
   "cell_type": "code",
   "execution_count": null,
   "metadata": {
    "collapsed": true,
    "deletable": true,
    "editable": true
   },
   "outputs": [],
   "source": [
    "x = np.linspace(-0.3,0.3,num=4)\n",
    "y = x**3-x**2\n",
    "splineFun1 = interp1d(x,y)\n",
    "splineFun3 = interp1d(x,y,kind=3)\n",
    "x1 = np.linspace(-0.2,0.2,num=3)\n",
    "x3 = x1\n",
    "y1 = splineFun1(x1)\n",
    "y3 = splineFun3(x3)\n",
    "xLong = np.linspace(-0.3,0.3,num=21)\n",
    "yLong = xLong**3-xLong**2\n",
    "plt.plot(xLong,yLong)\n",
    "plt.scatter(x,y)\n",
    "plt.scatter(x1,y1,color='r')\n",
    "plt.scatter(x3,y3,color='k')\n",
    "plt.show()"
   ]
  },
  {
   "cell_type": "markdown",
   "metadata": {
    "deletable": true,
    "editable": true
   },
   "source": [
    "## Testing interp1d with DNS U"
   ]
  },
  {
   "cell_type": "code",
   "execution_count": null,
   "metadata": {
    "collapsed": true,
    "deletable": true,
    "editable": true
   },
   "outputs": [],
   "source": [
    "# Using quartic spline, so 5 point stencil\n",
    "zDNS = np.loadtxt(os.environ['DATA186']+'avg/zp.dat',dtype=np.float)\n",
    "U = np.loadtxt(os.environ['DATA186']+'avg/u_avg_ref_it150500.dat',dtype=np.float)\n",
    "zWall = zDNS[:14]\n",
    "UWall = U[:14]\n",
    "splineFun3 = interp1d(zWall,UWall,kind=3)\n",
    "splineFun4 = interp1d(zWall,UWall,kind=4)\n",
    "splineFun5 = interp1d(zWall,UWall,kind=5)\n",
    "zNew = (zWall[:-1] + zWall[1:])/2.\n",
    "Unew3 = splineFun3(zNew)\n",
    "Unew4 = splineFun4(zNew)\n",
    "Unew5 = splineFun5(zNew)\n",
    "print(zWall)\n",
    "print(UWall)\n",
    "\n",
    "print(zNew)\n",
    "print(Unew3)\n",
    "print(Unew4)\n",
    "print(Unew5)\n",
    "\n",
    "\n",
    "plt.plot(zWall[1:],UWall[1:],'x-')\n",
    "plt.scatter(zNew[1:10], Unew3[1:10],color='r')\n",
    "plt.scatter(zNew[1:10], Unew4[1:10],color='k')\n",
    "#plt.scatter(zNew[1:10], Unew5[1:10],color='g')\n",
    "plt.legend(['DNS','Cubic interp','Quartic interp','Quintic interp'])\n",
    "plt.ylim([0.,0.5])\n",
    "plt.show()"
   ]
  },
  {
   "cell_type": "markdown",
   "metadata": {
    "deletable": true,
    "editable": true
   },
   "source": [
    "## Linearity of U near the wall"
   ]
  },
  {
   "cell_type": "code",
   "execution_count": null,
   "metadata": {
    "collapsed": true,
    "deletable": true,
    "editable": true
   },
   "outputs": [],
   "source": [
    "zDNS = np.loadtxt(os.environ['DATA186']+'avg/zp.dat',dtype=np.float)\n",
    "U = np.loadtxt(os.environ['DATA186']+'avg/u_avg_ref_it150500.dat',dtype=np.float)\n",
    "zPlusWall = 186.*zDNS[2:10]\n",
    "UWall = U[2:10]\n",
    "\n",
    "print(zPlusWall, UWall)\n",
    "plt.plot(zPlusWall, UWall,'+-'); \n",
    "plt.xlim([0.,1.]); plt.ylim([0.,1.])\n",
    "plt.show()\n"
   ]
  },
  {
   "cell_type": "markdown",
   "metadata": {
    "deletable": true,
    "editable": true
   },
   "source": [
    "# Interpolation using cubic splines"
   ]
  },
  {
   "cell_type": "code",
   "execution_count": null,
   "metadata": {
    "collapsed": true,
    "deletable": true,
    "editable": true
   },
   "outputs": [],
   "source": [
    "ztmp = np.loadtxt(os.environ['DATA186']+'avg/zp.dat',dtype=np.float)\n",
    "Utmp = np.loadtxt(os.environ['DATA186']+'avg/u_avg_ref_it150500.dat',dtype=np.float)\n",
    "UDNS = np.zeros(194)   # Including nodes at the walls\n",
    "zDNS = np.zeros(194)\n",
    "UDNS[1:-1] = Utmp[3:-3]\n",
    "zDNS[1:-1] = ztmp[3:-3]\n",
    "zDNS[-1] = 2.\n",
    "\n",
    "Ufun = interp1d(zDNS,UDNS,kind='cubic')\n",
    "z,D = pseudo.chebdif(194,1)\n",
    "z = 1. - z[1:-1]\n",
    "#z = 1.-z\n",
    "D = D[1:-1,1:-1,0]\n",
    "#D = D[:,:,0]\n",
    "\n",
    "U = Ufun(z)\n",
    "\n",
    "\n"
   ]
  },
  {
   "cell_type": "code",
   "execution_count": null,
   "metadata": {
    "collapsed": true,
    "deletable": true,
    "editable": true
   },
   "outputs": [],
   "source": [
    "plt.figure()\n",
    "plt.plot(zDNS,UDNS)\n",
    "plt.scatter(z,U)\n",
    "plt.xlim([-0.01,0.02]); plt.ylim([-0.1,1.])\n",
    "plt.show()\n",
    "print(U[0],U[-1])"
   ]
  },
  {
   "cell_type": "code",
   "execution_count": null,
   "metadata": {
    "collapsed": true,
    "deletable": true,
    "editable": true
   },
   "outputs": [],
   "source": [
    "plt.figure()\n",
    "plt.plot(z, D@U/186.)\n",
    "plt.xlim([0.,0.02]); plt.ylim([-1.1,-0.9])\n",
    "plt.show()"
   ]
  },
  {
   "cell_type": "code",
   "execution_count": null,
   "metadata": {
    "collapsed": true,
    "deletable": true,
    "editable": true
   },
   "outputs": [],
   "source": []
  },
  {
   "cell_type": "code",
   "execution_count": null,
   "metadata": {
    "collapsed": true,
    "deletable": true,
    "editable": true
   },
   "outputs": [],
   "source": []
  },
  {
   "cell_type": "code",
   "execution_count": null,
   "metadata": {
    "collapsed": true,
    "deletable": true,
    "editable": true
   },
   "outputs": [],
   "source": []
  },
  {
   "cell_type": "code",
   "execution_count": null,
   "metadata": {
    "collapsed": true,
    "deletable": true,
    "editable": true
   },
   "outputs": [],
   "source": []
  },
  {
   "cell_type": "code",
   "execution_count": null,
   "metadata": {
    "collapsed": true,
    "deletable": true,
    "editable": true
   },
   "outputs": [],
   "source": []
  },
  {
   "cell_type": "code",
   "execution_count": null,
   "metadata": {
    "collapsed": true,
    "deletable": true,
    "editable": true
   },
   "outputs": [],
   "source": []
  },
  {
   "cell_type": "code",
   "execution_count": null,
   "metadata": {
    "collapsed": true,
    "deletable": true,
    "editable": true
   },
   "outputs": [],
   "source": []
  },
  {
   "cell_type": "code",
   "execution_count": null,
   "metadata": {
    "collapsed": true,
    "deletable": true,
    "editable": true
   },
   "outputs": [],
   "source": []
  }
 ],
 "metadata": {
  "kernelspec": {
   "display_name": "Python 3",
   "language": "python",
   "name": "python3"
  },
  "language_info": {
   "codemirror_mode": {
    "name": "ipython",
    "version": 3
   },
   "file_extension": ".py",
   "mimetype": "text/x-python",
   "name": "python",
   "nbconvert_exporter": "python",
   "pygments_lexer": "ipython3",
   "version": "3.5.2"
  }
 },
 "nbformat": 4,
 "nbformat_minor": 2
}
