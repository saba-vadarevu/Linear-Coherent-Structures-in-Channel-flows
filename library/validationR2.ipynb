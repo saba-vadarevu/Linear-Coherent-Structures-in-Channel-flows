{
 "cells": [
  {
   "cell_type": "code",
   "execution_count": 1,
   "metadata": {
    "collapsed": false,
    "deletable": true,
    "editable": true
   },
   "outputs": [
    {
     "name": "stdout",
     "output_type": "stream",
     "text": [
      "The autoreload extension is already loaded. To reload it, use:\n",
      "  %reload_ext autoreload\n"
     ]
    }
   ],
   "source": [
    "%load_ext autoreload\n",
    "%autoreload 2"
   ]
  },
  {
   "cell_type": "code",
   "execution_count": 137,
   "metadata": {
    "collapsed": true,
    "deletable": true,
    "editable": true
   },
   "outputs": [],
   "source": [
    "import numpy as np\n",
    "import scipy as sp\n",
    "import h5py\n",
    "from scipy.interpolate import interp1d\n",
    "from scipy.linalg import sqrtm, solve_sylvester, solve_lyapunov\n",
    "from scipy.io import loadmat\n",
    "import matplotlib.pyplot as plt\n",
    "import sys\n",
    "import pseudo\n",
    "import os\n",
    "import glob\n",
    "import miscUtil\n",
    "import ops\n",
    "%matplotlib inline\n",
    "#%matplotlib notebook\n",
    "\n",
    "os.environ['DATA'] = os.environ['DATA186']\n",
    "physDataDir = os.environ['DATA'] + 'phys/'\n",
    "specDataDir = os.environ['DATA'] + 'spec/'\n",
    "covDataDir = os.environ['DATA'] + 'cov/'\n",
    "libDir = os.environ['LINLIB']\n",
    "figureFolder = 'newFigures/'"
   ]
  },
  {
   "cell_type": "markdown",
   "metadata": {
    "deletable": true,
    "editable": true
   },
   "source": [
    "I'm starting to wonder that all of the mess is because of the transformation I define from velocity vorticity. \n",
    "\n",
    "In JB05 (Jovanovic & Bamieh, 2005, Componentwise energy...), eq. A.1, they define an operator \n",
    "$$ \\mathcal{L} = \\frac{1}{k^2_x + k^2_z} \\begin{bmatrix} -\\Delta & 0 \\\\ 0 & I \\end{bmatrix} $$\n",
    "and say that the energy norm is\n",
    "$$ E = \\big< \\psi , \\psi \\big>_e = \\frac{1}{8} \\int\\limits_{-1}^1 \\psi^* \\mathcal{L} \\psi  dy = \\big< \\psi, \\mathcal{L} \\psi \\big> $$\n",
    "\n",
    "The counterpart for this definition in CoT is eq. A.1, which uses $Q$ instead of $\\mathcal{L}$. The state-transformation is given as $\\psi = Q^{1/2} \\phi$. I couldn't convince myself that the above definition of $\\mathcal{L}$ produces an appropriate norm, so I ended up using my own definition, \n",
    "$$C_\\phi^* I_w C_\\phi = Q$$\n",
    "\n",
    "This hasn't done so well so far. So, I guess I'll just have to see where using JB05's definition takes me."
   ]
  },
  {
   "cell_type": "code",
   "execution_count": 133,
   "metadata": {
    "collapsed": false,
    "deletable": true,
    "editable": true
   },
   "outputs": [
    {
     "name": "stdout",
     "output_type": "stream",
     "text": [
      "Using parameters Re=186, alfa=46.5, kapa=0.61, N=127\n",
      "Initialized instance of 'linearize', version 6.2.3.\n",
      "New in this version: pseudo module is defined for internal nodes \n",
      "To fix: Eddy viscosity, resolvent, and svd are currently not supported.\n",
      "structMat has not been supplied or is not a numpy array. Using one-point covariances for uu, vv, and ww, as well as the Reynolds shear stresses.\n",
      "a, b, Re: 2.5 6.666666666666666 186.0\n"
     ]
    },
    {
     "name": "stderr",
     "output_type": "stream",
     "text": [
      "/home/svadarevu/gitwork/linear/library/ops.py:191: UserWarning: To use eddy viscosity, pass kwarg 'nu'=self.nu to either makeSystem/makeAdjSystem, dynamicsMat, or OSS\n",
      "  warn(\"To use eddy viscosity, pass kwarg 'nu'=self.nu to either makeSystem/makeAdjSystem, dynamicsMat, or OSS\")\n",
      "/home/svadarevu/gitwork/linear/library/ops.py:227: UserWarning: dnu and d2nu are currently set to zero. Revisit this to implement eddy viscosity.\n",
      "  warn(\"dnu and d2nu are currently set to zero. Revisit this to implement eddy viscosity.\")\n"
     ]
    }
   ],
   "source": [
    "a0 = 0.25; b0 = 2./3.; l = 10; m = 10; N = 127; Re = 186.\n",
    "a = l*a0; b = m*b0\n",
    "k2 = a**2 + b**2\n",
    "Z1 = np.zeros((N,N), dtype=np.complex)\n",
    "I1 = np.identity(1*N, dtype=np.complex)\n",
    "I2 = np.identity(2*N, dtype=np.complex)\n",
    "I3 = np.identity(3*N, dtype=np.complex)\n",
    "\n",
    "weightDict = pseudo.weightMats(N=N)\n",
    "W2  = weightDict['W2']\n",
    "W3  = weightDict['W3']\n",
    "W2s = weightDict['W2Sqrt']\n",
    "W2si= weightDict['W2SqrtInv']\n",
    "W3s = weightDict['W3Sqrt']\n",
    "W3si= weightDict['W3SqrtInv']\n",
    "\n",
    "statInst = ops.statComp(N=N, Re=Re, a=a,b=b,covMat = I3)\n",
    "Cphi = statInst.velVor2primitivesMat()\n",
    "\n",
    "Delta = statInst.D2 - k2 * I1\n",
    "Q = (1./k2) * np.vstack((   np.hstack(( -Delta, Z1)), \n",
    "                            np.hstack(( Z1,  I1))    ))\n",
    "#Q = Cphi.conj().T @ W3 @Cphi\n",
    "\n",
    "Q = (W2) @ Q\n",
    "#Qs = W2s @ sqrtm(Q)\n",
    "Qs = sqrtm(Q)\n",
    "#Qs = sqrtm(Q) @ W2s\n",
    "Qsi= np.linalg.solve(Qs, I2)\n",
    "\n",
    "\n",
    "Aphi = statInst.dynamicsMat()\n",
    "Cphi = statInst.velVor2primitivesMat()\n",
    "Bphi = statInst.primitives2velVorMat(custom=False)\n",
    "Apsi = Qs @ Aphi @ Qsi\n",
    "Bpsi = Qs @ Bphi @ W3si\n",
    "Cpsi = W3s@ Cphi @ Qsi\n",
    "\n",
    "matDict = loadmat('data_figure9_jfm17.mat') # Data set from Zare\n",
    "Am = matDict['A']; Cm = matDict['L']; Bm = Cm.conj().T\n",
    "\n",
    "\n",
    "\n"
   ]
  },
  {
   "cell_type": "code",
   "execution_count": 134,
   "metadata": {
    "collapsed": false,
    "deletable": true,
    "editable": true
   },
   "outputs": [
    {
     "name": "stdout",
     "output_type": "stream",
     "text": [
      "0.385899955387 0.285923043404 0.242011509676 246539.207673 279634.702597\n"
     ]
    },
    {
     "data": {
      "image/png": "[encoded data removed]",
      "text/plain": [
       "<matplotlib.figure.Figure at 0x7f3bbc55e128>"
      ]
     },
     "metadata": {},
     "output_type": "display_data"
    }
   ],
   "source": [
    "diffNorm = lambda mat1,mat2: np.linalg.norm(mat1-mat2, ord='fro')/np.linalg.norm(mat1,ord='fro')\n",
    "\n",
    "A = Apsi; B = Bpsi; C = Cpsi\n",
    "\n",
    "Adiff = diffNorm(A,Am)\n",
    "Bdiff = diffNorm(B,Bm)\n",
    "Cdiff = diffNorm(C,Cm)\n",
    "\n",
    "U,S,V = np.linalg.svd(A); Um,Sm,Vm = np.linalg.svd(Am)\n",
    "print(Adiff, Bdiff,Cdiff, np.linalg.norm(A,ord=2), np.linalg.norm(Am,ord=2))\n",
    "#%matplotlib notebook\n",
    "%matplotlib inline\n",
    "plt.figure()\n",
    "plt.plot(S,'bx')\n",
    "plt.plot(Sm,'r+')\n",
    "plt.yscale(\"log\")\n",
    "plt.show()\n",
    "\n"
   ]
  },
  {
   "cell_type": "code",
   "execution_count": 135,
   "metadata": {
    "collapsed": false,
    "deletable": true,
    "editable": true
   },
   "outputs": [
    {
     "data": {
      "image/png": "[encoded data removed]",
      "text/plain": [
       "<matplotlib.figure.Figure at 0x7f3bba244fd0>"
      ]
     },
     "metadata": {},
     "output_type": "display_data"
    }
   ],
   "source": [
    "U,S,V = np.linalg.svd(Cpsi.conj().T @Cpsi)\n",
    "U,Sb,V = np.linalg.svd(Bpsi @Cpsi)\n",
    "U,Sm,V = np.linalg.svd(Bm @ Cm)\n",
    "plt.figure()\n",
    "plt.plot(S,'bx')\n",
    "plt.plot(S,'k*')\n",
    "plt.plot(Sm,'r+')\n",
    "plt.yscale(\"log\")\n",
    "plt.show()"
   ]
  },
  {
   "cell_type": "code",
   "execution_count": 136,
   "metadata": {
    "collapsed": false,
    "deletable": true,
    "editable": true
   },
   "outputs": [
    {
     "data": {
      "image/png": "[encoded data removed]",
      "text/plain": [
       "<matplotlib.figure.Figure at 0x7f3bba168438>"
      ]
     },
     "metadata": {},
     "output_type": "display_data"
    }
   ],
   "source": [
    "U,S,V = np.linalg.svd(Bphi@Cphi)\n",
    "U,Sb,V = np.linalg.svd(Cphi.conj().T @ Cphi)\n",
    "\n",
    "plt.figure()\n",
    "plt.plot(S,'bx')\n",
    "plt.plot(Sb,'k*')\n",
    "plt.yscale(\"log\")\n",
    "plt.show()"
   ]
  },
  {
   "cell_type": "code",
   "execution_count": 87,
   "metadata": {
    "collapsed": false,
    "deletable": true,
    "editable": true
   },
   "outputs": [
    {
     "data": {
      "text/plain": [
       "array([ 1.,  1.,  1.,  1.,  1.])"
      ]
     },
     "execution_count": 87,
     "metadata": {},
     "output_type": "execute_result"
    }
   ],
   "source": [
    "S[:5]"
   ]
  },
  {
   "cell_type": "code",
   "execution_count": 174,
   "metadata": {
    "collapsed": false,
    "deletable": true,
    "editable": true
   },
   "outputs": [
    {
     "name": "stdout",
     "output_type": "stream",
     "text": [
      "Using parameters Re=186, alfa=46.5, kapa=0.61, N=127\n",
      "Initialized instance of 'linearize', version 6.2.3.\n",
      "New in this version: pseudo module is defined for internal nodes \n",
      "To fix: Eddy viscosity, resolvent, and svd are currently not supported.\n",
      "covMat was not supplied. Loading matrix from /mnt/kepler/sabarish/data/R186/covN127/covR186N127l10m10.npy ...\n",
      "covMat from DNS data has y as spanwise. Reordering to have y as wall-normal......\n",
      "Reordering complete... Remember to verify the ordering.\n",
      "Remember that the covariance matrix is defined on clencurt-weighted velocity fields.\n",
      "structMat has not been supplied or is not a numpy array. Using one-point covariances for uu, vv, and ww, as well as the Reynolds shear stresses.\n",
      "a, b, Re: 2.5 6.666666666666667 186.0\n"
     ]
    },
    {
     "name": "stderr",
     "output_type": "stream",
     "text": [
      "/home/svadarevu/gitwork/linear/library/ops.py:191: UserWarning: To use eddy viscosity, pass kwarg 'nu'=self.nu to either makeSystem/makeAdjSystem, dynamicsMat, or OSS\n",
      "  warn(\"To use eddy viscosity, pass kwarg 'nu'=self.nu to either makeSystem/makeAdjSystem, dynamicsMat, or OSS\")\n",
      "/home/svadarevu/gitwork/linear/library/ops.py:227: UserWarning: dnu and d2nu are currently set to zero. Revisit this to implement eddy viscosity.\n",
      "  warn(\"dnu and d2nu are currently set to zero. Revisit this to implement eddy viscosity.\")\n"
     ]
    }
   ],
   "source": [
    "N = 127; Re=186.; a=2.5; b=20./3.\n",
    "statInst = ops.statComp(N=N,Re=Re, a=a,b=b)\n",
    "Qs = statInst.stateTrans()\n",
    "Aphi = statInst.dynamicsMat()\n",
    "Cphi = statInst.outputMat()\n",
    "Bphi = statInst.primitives2velVorMat(a=a,b=b)"
   ]
  },
  {
   "cell_type": "code",
   "execution_count": 181,
   "metadata": {
    "collapsed": false
   },
   "outputs": [
    {
     "name": "stdout",
     "output_type": "stream",
     "text": [
      "0.0973333333333 (0.0973333333333+0j) 1.91003744204e-15\n",
      "(3.24040995838+0j) (6.75959004161+0j)\n",
      "(0.365712801658+0j) (0.44698561104+0j)\n"
     ]
    }
   ],
   "source": [
    "y = statInst.y.copy()\n",
    "weightDict = pseudo.weightMats(N=N)\n",
    "w2 = np.diag(weightDict['W2']); w3 = np.diag(weightDict['W3'])\n",
    "uvw =np.concatenate(( (1.-y**2)/a, 0.*y, -(1.-y**2)/b    ))\n",
    "phi = Bphi @ uvw\n",
    "psi = Qs @ phi\n",
    "uvw0 = Cphi @ phi\n",
    "\n",
    "print(w3 @ (uvw*uvw), psi @ psi.conj(),  np.linalg.norm(uvw-uvw0)  )\n",
    "\n",
    "\n",
    "eta1 = (np.sin(np.pi*y))**2\n",
    "eta2 = np.sin(np.pi*y) + (1. - y**2)**3\n",
    "v1 =  -3.*np.sin(np.pi*y) + np.sin(3.*np.pi*y)\n",
    "v2 = 2.*(1. - y**2) - (1. - y**4)\n",
    "uvw1 = Cphi @ np.concatenate((v1,eta1))\n",
    "uvw2 = Cphi @ np.concatenate((v2,eta2))\n",
    "psi1 = Qs @ np.concatenate((v1,eta1))\n",
    "psi2 = Qs @ np.concatenate((v2,eta2))\n",
    "\n",
    "\n",
    "print(w3 @ (uvw1*uvw1), psi1 @ psi1.conj())\n",
    "print(w3 @ (uvw2*uvw2), psi2 @ psi2.conj())\n"
   ]
  },
  {
   "cell_type": "code",
   "execution_count": 182,
   "metadata": {
    "collapsed": false
   },
   "outputs": [
    {
     "data": {
      "text/plain": [
       "[<matplotlib.lines.Line2D at 0x7f3bb9ce1080>]"
      ]
     },
     "execution_count": 182,
     "metadata": {},
     "output_type": "execute_result"
    },
    {
     "data": {
      "image/png": "[encoded data removed]",
      "text/plain": [
       "<matplotlib.figure.Figure at 0x7f3bb9de4860>"
      ]
     },
     "metadata": {},
     "output_type": "display_data"
    }
   ],
   "source": [
    "plt.plot(y, np.abs(uvw1[:N]),'b+-.')\n",
    "plt.plot(y, np.abs(uvw1[N:2*N]), 'rx-.')\n",
    "plt.plot(y, np.abs(uvw1[2*N:3*N]), 'kv-.')\n",
    "plt.plot(y, np.abs(eta1[:]), 'go-.')"
   ]
  },
  {
   "cell_type": "code",
   "execution_count": 179,
   "metadata": {
    "collapsed": false
   },
   "outputs": [
    {
     "data": {
      "image/png": "[encoded data removed]",
      "text/plain": [
       "<matplotlib.figure.Figure at 0x7f3bb9dcd780>"
      ]
     },
     "metadata": {},
     "output_type": "display_data"
    }
   ],
   "source": [
    "y = statInst.y.copy()\n",
    "v3 = 1.-y**2\n",
    "eta3 = y.copy()\n",
    "uvw3 = Cphi @ np.concatenate(( v3,eta3 ))\n",
    "plt.plot(y, np.abs(uvw3[:N]),'b+-.')\n",
    "eta3[:] = 0.\n",
    "uvw3 = Cphi @ np.concatenate(( v3,eta3 ))\n",
    "plt.plot(y, np.abs(uvw3[:N]),'rx-.')\n",
    "plt.xlim([-1.,1.])\n",
    "plt.show()"
   ]
  },
  {
   "cell_type": "code",
   "execution_count": 166,
   "metadata": {
    "collapsed": false
   },
   "outputs": [
    {
     "data": {
      "text/plain": [
       "((127,), (381, 254), (254,), (127,))"
      ]
     },
     "execution_count": 166,
     "metadata": {},
     "output_type": "execute_result"
    }
   ],
   "source": [
    "uvw3[:N].shape, Cphi.shape, np.concatenate((v3,eta3)).shape, y.shape"
   ]
  },
  {
   "cell_type": "code",
   "execution_count": 173,
   "metadata": {
    "collapsed": false
   },
   "outputs": [
    {
     "data": {
      "text/plain": [
       "array([ 0.,  0.,  0.,  0.,  0.,  0.,  0.,  0.,  0.,  0.,  0.,  0.,  0.,\n",
       "        0.,  0.,  0.,  0.,  0.,  0.,  0.,  0.,  0.,  0.,  0.,  0.,  0.,\n",
       "        0.,  0.,  0.,  0.,  0.,  0.,  0.,  0.,  0.,  0.,  0.,  0.,  0.,\n",
       "        0.,  0.,  0.,  0.,  0.,  0.,  0.,  0.,  0.,  0.,  0.,  0.,  0.,\n",
       "        0.,  0.,  0.,  0.,  0.,  0.,  0.,  0.,  0.,  0.,  0.,  0.,  0.,\n",
       "        0.,  0.,  0.,  0.,  0.,  0.,  0.,  0.,  0.,  0.,  0.,  0.,  0.,\n",
       "        0.,  0.,  0.,  0.,  0.,  0.,  0.,  0.,  0.,  0.,  0.,  0.,  0.,\n",
       "        0.,  0.,  0.,  0.,  0.,  0.,  0.,  0.,  0.,  0.,  0.,  0.,  0.,\n",
       "        0.,  0.,  0.,  0.,  0.,  0.,  0.,  0.,  0.,  0.,  0.,  0.,  0.,\n",
       "        0.,  0.,  0.,  0.,  0.,  0.,  0.,  0.,  0.,  0.])"
      ]
     },
     "execution_count": 173,
     "metadata": {},
     "output_type": "execute_result"
    }
   ],
   "source": [
    "statInst.y"
   ]
  },
  {
   "cell_type": "code",
   "execution_count": null,
   "metadata": {
    "collapsed": true
   },
   "outputs": [],
   "source": []
  }
 ],
 "metadata": {
  "kernelspec": {
   "display_name": "Python 3",
   "language": "python",
   "name": "python3"
  },
  "language_info": {
   "codemirror_mode": {
    "name": "ipython",
    "version": 3
   },
   "file_extension": ".py",
   "mimetype": "text/x-python",
   "name": "python",
   "nbconvert_exporter": "python",
   "pygments_lexer": "ipython3",
   "version": "3.5.2"
  }
 },
 "nbformat": 4,
 "nbformat_minor": 2
}
