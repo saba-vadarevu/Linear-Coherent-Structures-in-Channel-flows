{
 "cells": [
  {
   "cell_type": "code",
   "execution_count": null,
   "metadata": {
    "collapsed": true
   },
   "outputs": [],
   "source": []
  },
  {
   "cell_type": "code",
   "execution_count": 12,
   "metadata": {
    "collapsed": true
   },
   "outputs": [],
   "source": [
    "import numpy as np\n",
    "import scipy as sp\n",
    "import h5py\n",
    "from scipy.interpolate import interp1d\n",
    "from scipy.linalg import sqrtm, solve_sylvester, solve_lyapunov\n",
    "from scipy.integrate import quad\n",
    "from scipy.io import savemat, loadmat\n",
    "from scipy.sparse.linalg import svds\n",
    "import matplotlib.pyplot as plt\n",
    "import sys\n",
    "import time\n",
    "import pseudo\n",
    "import os\n",
    "import copy\n",
    "import glob\n",
    "import miscUtil\n",
    "import ops\n",
    "import warnings\n",
    "%matplotlib inline\n",
    "#%matplotlib notebook\n",
    "\n",
    "os.environ['DATA'] = os.environ['DATA186']\n",
    "physDataDir = os.environ['DATA'] + 'phys/'\n",
    "specDataDir = os.environ['DATA'] + 'spec/'\n",
    "covDataDir = os.environ['DATA'] + 'cov/'\n",
    "libDir = os.environ['LINLIB']\n",
    "figureFolder = 'manuscriptFigures/'"
   ]
  },
  {
   "cell_type": "code",
   "execution_count": 17,
   "metadata": {
    "collapsed": false
   },
   "outputs": [
    {
     "name": "stdout",
     "output_type": "stream",
     "text": [
      "Using parameters Re=2003, alfa=25.4, kapa=0.426, N=251\n"
     ]
    },
    {
     "data": {
      "image/png": "[encoded data removed]",
      "text/plain": [
       "<matplotlib.figure.Figure at 0x7fed76251160>"
      ]
     },
     "metadata": {},
     "output_type": "display_data"
    },
    {
     "data": {
      "text/plain": [
       "[<matplotlib.lines.Line2D at 0x7fed761bf780>]"
      ]
     },
     "execution_count": 17,
     "metadata": {},
     "output_type": "execute_result"
    },
    {
     "data": {
      "image/png": "[encoded data removed]",
      "text/plain": [
       "<matplotlib.figure.Figure at 0x7fed7617ec18>"
      ]
     },
     "metadata": {},
     "output_type": "display_data"
    }
   ],
   "source": [
    "turbDict = ops.turbMeanChannel(N=251,Re=2003.,walls=True)\n",
    "plt.plot(turbDict['y'], turbDict['U'])\n",
    "plt.show()\n",
    "\n",
    "plt.plot(turbDict['y'], turbDict['nu'])"
   ]
  },
  {
   "cell_type": "code",
   "execution_count": 16,
   "metadata": {
    "collapsed": false
   },
   "outputs": [
    {
     "data": {
      "text/plain": [
       "(-1.0, 0.0)"
      ]
     },
     "execution_count": 16,
     "metadata": {},
     "output_type": "execute_result"
    }
   ],
   "source": [
    "turbDict['y'][0], turbDict['U'][0]"
   ]
  },
  {
   "cell_type": "code",
   "execution_count": 22,
   "metadata": {
    "collapsed": false
   },
   "outputs": [
    {
     "data": {
      "text/plain": [
       "array([[ 41.6       , -68.36067977,  40.82755348, -23.63932023,\n",
       "         17.57244652,  -8.        ],\n",
       "       [ 21.2859127 , -31.53312629,  12.68328157,  -3.69442719,\n",
       "          2.21114562,  -0.9527864 ],\n",
       "       [ -1.8472136 ,   7.31671843, -10.06687371,   5.78885438,\n",
       "         -1.90557281,   0.7140873 ],\n",
       "       [  0.7140873 ,  -1.90557281,   5.78885438, -10.06687371,\n",
       "          7.31671843,  -1.8472136 ],\n",
       "       [ -0.9527864 ,   2.21114562,  -3.69442719,  12.68328157,\n",
       "        -31.53312629,  21.2859127 ],\n",
       "       [ -8.        ,  17.57244652, -23.63932023,  40.82755348,\n",
       "        -68.36067977,  41.6       ]])"
      ]
     },
     "execution_count": 22,
     "metadata": {},
     "output_type": "execute_result"
    }
   ],
   "source": [
    "DM = pseudo.chebdif(4,2,walls=True)[1]\n",
    "DM[:,:,1]\n"
   ]
  },
  {
   "cell_type": "code",
   "execution_count": null,
   "metadata": {
    "collapsed": true
   },
   "outputs": [],
   "source": []
  }
 ],
 "metadata": {
  "kernelspec": {
   "display_name": "Python 3",
   "language": "python",
   "name": "python3"
  },
  "language_info": {
   "codemirror_mode": {
    "name": "ipython",
    "version": 3
   },
   "file_extension": ".py",
   "mimetype": "text/x-python",
   "name": "python",
   "nbconvert_exporter": "python",
   "pygments_lexer": "ipython3",
   "version": "3.5.2"
  }
 },
 "nbformat": 4,
 "nbformat_minor": 2
}
