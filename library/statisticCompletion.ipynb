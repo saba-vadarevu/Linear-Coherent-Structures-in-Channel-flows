{
 "cells": [
  {
   "cell_type": "code",
   "execution_count": 201,
   "metadata": {
    "collapsed": false,
    "deletable": true,
    "editable": true
   },
   "outputs": [],
   "source": [
    "import numpy as np\n",
    "import matplotlib.pyplot as plt\n",
    "import sys; sys.path.append('/home/svadarevu/gitwork/linear/library/')\n",
    "import pseudo\n",
    "import os\n",
    "import glob\n",
    "import miscUtil\n",
    "import ops\n",
    "%matplotlib inline\n",
    "\n",
    "physDataDir = '/home/svadarevu/gitwork/linear/data/'\n",
    "covDataDir = '/home/svadarevu/gitwork/linear/cov/'\n",
    "specDataDir = '/kepler/sabarish/data/r590/FF/'\n",
    "libDir = '/home/svadarevu/gitwork/linear/library/'"
   ]
  },
  {
   "cell_type": "code",
   "execution_count": null,
   "metadata": {
    "collapsed": false,
    "deletable": true,
    "editable": true,
    "scrolled": false
   },
   "outputs": [],
   "source": [
    "os.chdir(libDir)\n",
    "%run test_minimize.py\n",
    "os.chdir(specDataDir)"
   ]
  },
  {
   "cell_type": "code",
   "execution_count": null,
   "metadata": {
    "collapsed": true,
    "deletable": true,
    "editable": true
   },
   "outputs": [],
   "source": [
    "os.chdir()\n",
    "tRange = np.arange(40000, 75000,500)\n",
    "uFiles = ['uFF_it%s.dat'%t for t in tRange]\n",
    "U = np.zeros(384)\n",
    "for fInd in range(len(uFiles)):\n",
    "    uff = miscUtil.bin2arr(uFiles[fInd])\n",
    "    U += np.real(uff[0,0])\n",
    "U = U/len(uFiles)\n",
    "np.save('')"
   ]
  },
  {
   "cell_type": "code",
   "execution_count": 199,
   "metadata": {
    "collapsed": false,
    "deletable": true,
    "editable": true
   },
   "outputs": [
    {
     "name": "stdout",
     "output_type": "stream",
     "text": [
      "328.767273778 1.73873297778\n",
      "1.73873297778 1.62865168555\n",
      "1.62865168555 0.997196186785\n",
      "0.997196186785 0.68622372687\n",
      "0.68622372687 0.934848330996\n",
      "0.934848330996 0.526629471472\n",
      "0.526629471472 0.563877935022\n",
      "0.563877935022 0.604775075867\n",
      "0.604775075867 0.494426537127\n",
      "0.494426537127 0.51379273557\n",
      "0.51379273557 0.363222768091\n",
      "0.363222768091 0.358230391286\n",
      "0.358230391286 0.318638554356\n",
      "0.318638554356 0.314513881751\n",
      "0.314513881751 0.31386132719\n",
      "0.31386132719 0.218574436911\n",
      "0.218574436911 0.234717850924\n",
      "0.234717850924 0.225509701691\n",
      "0.225509701691 0.192271907632\n",
      "0.192271907632 0.208290920539\n",
      "0.208290920539 0.251735040792\n",
      "0.251735040792 0.166947538399\n",
      "0.166947538399 0.171820219934\n",
      "0.171820219934 0.159084421533\n",
      "0.159084421533 0.134606805069\n",
      "0.134606805069 0.128811784243\n",
      "0.128811784243 0.147635983131\n",
      "0.147635983131 0.134019434651\n",
      "0.134019434651 0.0918946914268\n",
      "0.0918946914268 0.114731208509\n",
      "0.114731208509 0.0885504004426\n"
     ]
    }
   ],
   "source": [
    "os.chdir(specDataDir)\n",
    "uff = miscUtil.bin2arr('uFF_it64850.dat')\n",
    "for l in range(31):\n",
    "    print(np.linalg.norm(np.conj(uff[l,0]) ),np.linalg.norm(np.conj(uff[97+l,0]) ))"
   ]
  },
  {
   "cell_type": "code",
   "execution_count": 197,
   "metadata": {
    "collapsed": false,
    "deletable": true,
    "editable": true
   },
   "outputs": [
    {
     "data": {
      "text/plain": [
       "(193, 64, 384)"
      ]
     },
     "execution_count": 197,
     "metadata": {},
     "output_type": "execute_result"
    }
   ],
   "source": [
    "uff.shape"
   ]
  },
  {
   "cell_type": "markdown",
   "metadata": {
    "deletable": true,
    "editable": true
   },
   "source": [
    "# Covariance matrices from DNS"
   ]
  },
  {
   "cell_type": "code",
   "execution_count": 132,
   "metadata": {
    "collapsed": false,
    "deletable": true,
    "editable": true
   },
   "outputs": [],
   "source": [
    "# For a,b = 2,8 (or l,m=2,4 since a0,b0 = 1,2)\n",
    "N = 384\n",
    "covMat =np.load(covDataDir+'covR590N%dl02m04.npy'%N)\n",
    "z = pseudo.chebdif(N+2,1)[0][1:-1]"
   ]
  },
  {
   "cell_type": "code",
   "execution_count": 170,
   "metadata": {
    "collapsed": false,
    "deletable": true,
    "editable": true
   },
   "outputs": [
    {
     "ename": "FileNotFoundError",
     "evalue": "[Errno 2] No such file or directory: '/home/svadarevu/gitwork/linear/cov/covR590l-2m04.npy'",
     "output_type": "error",
     "traceback": [
      "\u001b[0;31m---------------------------------------------------------------------------\u001b[0m",
      "\u001b[0;31mFileNotFoundError\u001b[0m                         Traceback (most recent call last)",
      "\u001b[0;32m<ipython-input-170-d7d4049a3e4e>\u001b[0m in \u001b[0;36m<module>\u001b[0;34m()\u001b[0m\n\u001b[1;32m      1\u001b[0m \u001b[0mN\u001b[0m \u001b[0;34m=\u001b[0m \u001b[0;36m384\u001b[0m\u001b[0;34m\u001b[0m\u001b[0m\n\u001b[0;32m----> 2\u001b[0;31m \u001b[0mcovMat\u001b[0m \u001b[0;34m=\u001b[0m\u001b[0mnp\u001b[0m\u001b[0;34m.\u001b[0m\u001b[0mload\u001b[0m\u001b[0;34m(\u001b[0m\u001b[0mcovDataDir\u001b[0m\u001b[0;34m+\u001b[0m\u001b[0;34m'covR590l-2m04.npy'\u001b[0m\u001b[0;34m)\u001b[0m\u001b[0;34m\u001b[0m\u001b[0m\n\u001b[0m\u001b[1;32m      3\u001b[0m \u001b[0mz\u001b[0m \u001b[0;34m=\u001b[0m \u001b[0mpseudo\u001b[0m\u001b[0;34m.\u001b[0m\u001b[0mchebdif\u001b[0m\u001b[0;34m(\u001b[0m\u001b[0mN\u001b[0m\u001b[0;34m+\u001b[0m\u001b[0;36m2\u001b[0m\u001b[0;34m,\u001b[0m\u001b[0;36m1\u001b[0m\u001b[0;34m)\u001b[0m\u001b[0;34m[\u001b[0m\u001b[0;36m0\u001b[0m\u001b[0;34m]\u001b[0m\u001b[0;34m[\u001b[0m\u001b[0;36m1\u001b[0m\u001b[0;34m:\u001b[0m\u001b[0;34m-\u001b[0m\u001b[0;36m1\u001b[0m\u001b[0;34m]\u001b[0m\u001b[0;34m\u001b[0m\u001b[0m\n\u001b[1;32m      4\u001b[0m \u001b[0mplt\u001b[0m\u001b[0;34m.\u001b[0m\u001b[0mcontourf\u001b[0m\u001b[0;34m(\u001b[0m\u001b[0mz\u001b[0m\u001b[0;34m,\u001b[0m \u001b[0mz\u001b[0m\u001b[0;34m,\u001b[0m\u001b[0mnp\u001b[0m\u001b[0;34m.\u001b[0m\u001b[0mabs\u001b[0m\u001b[0;34m(\u001b[0m\u001b[0mcovMat\u001b[0m\u001b[0;34m[\u001b[0m\u001b[0;36m0\u001b[0m\u001b[0;34m*\u001b[0m\u001b[0mN\u001b[0m\u001b[0;34m:\u001b[0m\u001b[0;36m1\u001b[0m\u001b[0;34m*\u001b[0m\u001b[0mN\u001b[0m\u001b[0;34m,\u001b[0m\u001b[0;36m0\u001b[0m\u001b[0;34m*\u001b[0m\u001b[0mN\u001b[0m\u001b[0;34m:\u001b[0m\u001b[0;36m1\u001b[0m\u001b[0;34m*\u001b[0m\u001b[0mN\u001b[0m\u001b[0;34m]\u001b[0m\u001b[0;34m)\u001b[0m\u001b[0;34m,\u001b[0m\u001b[0;36m100\u001b[0m\u001b[0;34m,\u001b[0m\u001b[0mcmap\u001b[0m\u001b[0;34m=\u001b[0m\u001b[0mplt\u001b[0m\u001b[0;34m.\u001b[0m\u001b[0mget_cmap\u001b[0m\u001b[0;34m(\u001b[0m\u001b[0;34m'gist_heat'\u001b[0m\u001b[0;34m)\u001b[0m\u001b[0;34m)\u001b[0m\u001b[0;34m\u001b[0m\u001b[0m\n\u001b[1;32m      5\u001b[0m \u001b[0;31m#plt.xscale(\"log\")#; plt.yscale(\"log\")\u001b[0m\u001b[0;34m\u001b[0m\u001b[0;34m\u001b[0m\u001b[0m\n",
      "\u001b[0;32m/home/svadarevu/linenv/lib/python3.5/site-packages/numpy/lib/npyio.py\u001b[0m in \u001b[0;36mload\u001b[0;34m(file, mmap_mode, allow_pickle, fix_imports, encoding)\u001b[0m\n\u001b[1;32m    368\u001b[0m     \u001b[0mown_fid\u001b[0m \u001b[0;34m=\u001b[0m \u001b[0;32mFalse\u001b[0m\u001b[0;34m\u001b[0m\u001b[0m\n\u001b[1;32m    369\u001b[0m     \u001b[0;32mif\u001b[0m \u001b[0misinstance\u001b[0m\u001b[0;34m(\u001b[0m\u001b[0mfile\u001b[0m\u001b[0;34m,\u001b[0m \u001b[0mbasestring\u001b[0m\u001b[0;34m)\u001b[0m\u001b[0;34m:\u001b[0m\u001b[0;34m\u001b[0m\u001b[0m\n\u001b[0;32m--> 370\u001b[0;31m         \u001b[0mfid\u001b[0m \u001b[0;34m=\u001b[0m \u001b[0mopen\u001b[0m\u001b[0;34m(\u001b[0m\u001b[0mfile\u001b[0m\u001b[0;34m,\u001b[0m \u001b[0;34m\"rb\"\u001b[0m\u001b[0;34m)\u001b[0m\u001b[0;34m\u001b[0m\u001b[0m\n\u001b[0m\u001b[1;32m    371\u001b[0m         \u001b[0mown_fid\u001b[0m \u001b[0;34m=\u001b[0m \u001b[0;32mTrue\u001b[0m\u001b[0;34m\u001b[0m\u001b[0m\n\u001b[1;32m    372\u001b[0m     \u001b[0;32melif\u001b[0m \u001b[0mis_pathlib_path\u001b[0m\u001b[0;34m(\u001b[0m\u001b[0mfile\u001b[0m\u001b[0;34m)\u001b[0m\u001b[0;34m:\u001b[0m\u001b[0;34m\u001b[0m\u001b[0m\n",
      "\u001b[0;31mFileNotFoundError\u001b[0m: [Errno 2] No such file or directory: '/home/svadarevu/gitwork/linear/cov/covR590l-2m04.npy'"
     ]
    }
   ],
   "source": [
    "N = 384\n",
    "covMat =np.load(covDataDir+'covR590l-2m04.npy')\n",
    "z = pseudo.chebdif(N+2,1)[0][1:-1]\n",
    "plt.contourf(z, z,np.abs(covMat[0*N:1*N,0*N:1*N]),100,cmap=plt.get_cmap('gist_heat'))\n",
    "#plt.xscale(\"log\")#; plt.yscale(\"log\")\n",
    "#plt.clim([0., 1.0e-4])\n",
    "ax = plt.gca() \n",
    "ax.set_xlim(ax.get_xlim()[::-1]) \n",
    "plt.colorbar()\n",
    "plt.show()\n",
    "#print(np.diag(covMat[:N,:N]))"
   ]
  },
  {
   "cell_type": "code",
   "execution_count": null,
   "metadata": {
    "collapsed": true,
    "deletable": true,
    "editable": true
   },
   "outputs": [],
   "source": []
  },
  {
   "cell_type": "code",
   "execution_count": 184,
   "metadata": {
    "collapsed": false,
    "deletable": true,
    "editable": true
   },
   "outputs": [
    {
     "data": {
      "image/png": "[encoded data removed]",
      "text/plain": [
       "<matplotlib.figure.Figure at 0x7fa30012e128>"
      ]
     },
     "metadata": {},
     "output_type": "display_data"
    }
   ],
   "source": [
    "N = 64\n",
    "covMat =np.load(covDataDir+'covR590N%dl-1m00.npy'%N)\n",
    "z = pseudo.chebdif(N+2,1)[0][1:-1]\n",
    "plt.contourf(z, z,np.abs(covMat[0*N:1*N,0*N:1*N]),100,cmap=plt.get_cmap('gist_heat'))\n",
    "#plt.xscale(\"log\")#; plt.yscale(\"log\")\n",
    "#plt.clim([0., 1.0e-4])\n",
    "ax = plt.gca() \n",
    "ax.set_xlim(ax.get_xlim()[::-1]) \n",
    "plt.colorbar()\n",
    "plt.show()\n",
    "#print(np.diag(covMat[:N,:N]))"
   ]
  },
  {
   "cell_type": "markdown",
   "metadata": {
    "deletable": true,
    "editable": true
   },
   "source": [
    "# Stat completition for turbulent channel flow"
   ]
  },
  {
   "cell_type": "code",
   "execution_count": null,
   "metadata": {
    "collapsed": true,
    "deletable": true,
    "editable": true
   },
   "outputs": [],
   "source": [
    "# Load turbulent mean for Re=590 from DNS data\n",
    "os.chdir(covDataDir)\n",
    "U0 = np.load('uMean.npy')\n",
    "U = np.zeros(U0.size+2)\n",
    "U[1:-1] = U0\n",
    "\n",
    "# Interpolate to a grid with N=64 (internal nodes)\n",
    "N = 64\n",
    "Uc = pseudo.chebcoeffs(U)\n",
    "Uc = Uc[:N+2]\n",
    "U = pseudo.chebcoll_vec(Uc)\n",
    "\n",
    "\n",
    "# Initialize statComp instance \n",
    "a = 2.; b = 8.; l = a; m = b/2.\n",
    "statInst = statComp(a=a, b=b, N=N)\n",
    "# Re-assign attributes U, dU, d2U to reflect turbulent field\n",
    "statInst.U = U\n",
    "statInst.dU = statInst.D1 @ U\n",
    "statInst.d2U = statInst.D2 @ U\n",
    "\n",
    "\n"
   ]
  },
  {
   "cell_type": "code",
   "execution_count": null,
   "metadata": {
    "collapsed": true,
    "deletable": true,
    "editable": true
   },
   "outputs": [],
   "source": []
  },
  {
   "cell_type": "markdown",
   "metadata": {
    "deletable": true,
    "editable": true
   },
   "source": [
    "# Stat completion for laminar channel flow"
   ]
  },
  {
   "cell_type": "code",
   "execution_count": 54,
   "metadata": {
    "collapsed": false,
    "deletable": true,
    "editable": true
   },
   "outputs": [
    {
     "name": "stdout",
     "output_type": "stream",
     "text": [
      "Initialized instance of 'linearize', version 3.1.\n",
      "New in this version: diffmats and OSS validated for channel and BL LSA. \n",
      "Re is now a class attribute. Use the appropriate one depending on what velocity is used for scaling U,dU,d2U.\n",
      "To fix: channel routines in pseudo.py to ignore wall-nodes, \n",
      "To fix: Eddy viscosity, resolvent, and svd are currently not supported.\n",
      "structMat has not been supplied or is not a numpy array. Using one-point covariances for uu, and vv, as well as the Reynolds shear stresses. Ignoring ww.\n"
     ]
    },
    {
     "name": "stderr",
     "output_type": "stream",
     "text": [
      "/home/svadarevu/gitwork/linear/library/ops.py:379: UserWarning: Need Fourier coefficients for u,v,w from DNS for statistics completion. Have you supplied these? Using zeroes for non-supplied fields instead.\n",
      "  warn(\"Need Fourier coefficients for u,v,w from DNS for statistics completion. Have you supplied these? Using zeroes for non-supplied fields instead.\")\n"
     ]
    }
   ],
   "source": [
    "statInst = ops.statComp(N=15)"
   ]
  },
  {
   "cell_type": "code",
   "execution_count": 55,
   "metadata": {
    "collapsed": false,
    "deletable": true,
    "editable": true,
    "scrolled": true
   },
   "outputs": [
    {
     "name": "stderr",
     "output_type": "stream",
     "text": [
      "/home/svadarevu/gitwork/linear/library/ops.py:299: UserWarning: z,w represent wall-normal, and y,v represent spanwise.\n",
      "  warn(\"z,w represent wall-normal, and y,v represent spanwise.\")\n",
      "/home/svadarevu/gitwork/linear/library/minimize.py:52: UserWarning: Be careful with array multiplication. All arrays are now matrices, so A*B is matrix multiplication, not elementwise multiplication.\n",
      "  warn(\"Be careful with array multiplication. All arrays are now matrices, so A*B is matrix multiplication, not elementwise multiplication.\")\n",
      "/home/svadarevu/gitwork/linear/library/minimize.py:90: UserWarning: No Z0 supplied, using identity...\n",
      "  warn(\"No Z0 supplied, using identity...\")\n",
      "/home/svadarevu/gitwork/linear/library/minimize.py:93: UserWarning: No X0 supplied, solving Lyapunov equation with Z0\n",
      "  warn(\"No X0 supplied, solving Lyapunov equation with Z0\")\n",
      "/home/svadarevu/gitwork/linear/library/minimize.py:98: UserWarning: No Y10 supplied, solving adjoing Lyapunov equation\n",
      "  warn(\"No Y10 supplied, solving adjoing Lyapunov equation\")\n",
      "/home/svadarevu/gitwork/linear/library/minimize.py:101: UserWarning: Y10 from solve_lyapunov does not have attribute 'H', so it's an ndarray and not a matrix. I've recast it into matrix, but have a look at why this is happening....\n",
      "  warn(\"Y10 from solve_lyapunov does not have attribute 'H', so it's an ndarray and not a matrix. I've recast it into matrix, but have a look at why this is happening....\")\n",
      "/home/svadarevu/gitwork/linear/library/minimize.py:130: UserWarning: This code currently uses only method AMA. ADMM from the original matlab function hasn't been implemented.\n",
      "  warn(\"This code currently uses only method AMA. ADMM from the original matlab function hasn't been implemented.\")\n",
      "/home/svadarevu/gitwork/linear/library/minimize.py:198: UserWarning: numpy's SVD factors as M=USV, not USV*\n",
      "  warn(\"numpy's SVD factors as M=USV, not USV*\")\n",
      "/home/svadarevu/gitwork/linear/library/minimize.py:299: ComplexWarning: Casting complex values to real discards the imaginary part\n",
      "  funPrimalArr[AMAstep] = -np.log( np.linalg.det( Xnew +0.j)) + rankPar * norm(Znew,ord='nuc')\n"
     ]
    },
    {
     "name": "stdout",
     "output_type": "stream",
     "text": [
      "Write decorators for timing and logging (have a look at your bookmarks on Chrome)\n",
      "\n",
      "Starting iterations for AMA......\n",
      "stepSize_BB  stepSize  tolPrimal   resPrimal  tolDual   abs(dualGap)    iter\n",
      "      10  1.32e-22       1e-06     1.2e+11       1e-06       31  0\n",
      "  0.0012   0.00121       1e-06         8.7       1e-06       30  100\n",
      " 0.00028  0.000139       1e-06         9.4       1e-06       29  200\n",
      "   0.008  0.000994       1e-06         3.5       1e-06       29  300\n",
      " 0.00089  0.000893       1e-06         2.6       1e-06       29  400\n",
      "  0.0013    0.0013       1e-06         2.2       1e-06       29  500\n",
      "   0.042  0.000653       1e-06         5.4       1e-06       29  600\n",
      "  0.0063   0.00629       1e-06        0.98       1e-06       29  700\n",
      "    0.41    0.0255       1e-06        0.85       1e-06       29  800\n",
      "   0.012    0.0117       1e-06        0.67       1e-06       29  900\n",
      "   0.052    0.0258       1e-06        0.55       1e-06       29  1000\n",
      "   0.052     0.052       1e-06        0.27       1e-06       29  1100\n",
      "    0.15     0.147       1e-06        0.88       1e-06       19  1200\n",
      "     1.4      1.43       1e-06         0.1       1e-06       28  1300\n",
      "    0.81     0.806       1e-06         0.1       1e-06       28  1400\n",
      "      45     0.352       1e-06        0.18       1e-06       23  1500\n",
      " 1.3e+02     0.494       1e-06        0.15       1e-06       21  1600\n",
      "     1.8      1.77       1e-06       0.048       1e-06       20  1700\n",
      "     9.8      2.46       1e-06       0.049       1e-06       20  1800\n",
      "     4.2      4.18       1e-06       0.032       1e-06       20  1900\n",
      "      97      3.02       1e-06       0.073       1e-06       20  2000\n",
      " 2.3e+03       290       1e-06       0.022       1e-06       21  2100\n",
      "      61      7.62       1e-06        0.03       1e-06       21  2200\n",
      " 4.5e+02        14       1e-06       0.022       1e-06       21  2300\n",
      " 5.8e+02      36.3       1e-06       0.023       1e-06       21  2400\n",
      "      18      17.9       1e-06       0.014       1e-06       22  2500\n",
      " 2.5e+02       253       1e-06       0.013       1e-06       22  2600\n",
      " 3.8e+02       377       1e-06       0.012       1e-06       22  2700\n",
      "      65      32.5       1e-06       0.017       1e-06       22  2800\n",
      " 3.9e+03      15.1       1e-06       0.042       1e-06       22  2900\n",
      " 6.9e+02      42.8       1e-06       0.014       1e-06       23  3000\n",
      "      98        98       1e-06      0.0088       1e-06       23  3100\n",
      " 1.4e+02       138       1e-06      0.0075       1e-06       24  3200\n",
      " 6.3e+03      49.4       1e-06       0.016       1e-06       24  3300\n",
      " 1.5e+02       149       1e-06      0.0061       1e-06       24  3400\n",
      "   2e+02       195       1e-06       0.006       1e-06       24  3500\n",
      "   3e+04  2.97e+04       1e-06      0.0046       1e-06       25  3600\n",
      "   4e+04       155       1e-06       0.012       1e-06       25  3700\n",
      " 7.5e+02       746       1e-06      0.0042       1e-06       25  3800\n",
      " 7.1e+02       710       1e-06      0.0029       1e-06       25  3900\n",
      " 5.3e+03  5.34e+03       1e-06      0.0016       1e-06       26  4000\n",
      " 3.2e+10     4e+09       1e-06     1.1e-05       1e-06       29  4100\n",
      " 4.5e+12  8.85e+09       1e-06     4.5e-06       1e-06       29  4200\n",
      " 6.6e+12  2.56e+10       1e-06       2e-06       1e-06       29  4300\n",
      " 5.6e+10  5.64e+10       1e-06     1.4e-06       1e-06       29  4400\n",
      " 4.6e+11   4.6e+11       1e-06     1.5e-07       1e-06       29  4500\n",
      " 1.3e+11  1.29e+11       1e-06     8.3e-07       1e-06       29  4600\n",
      " 1.8e+12  1.76e+12       1e-06     4.9e-08       1e-06       29  4700\n",
      " 3.3e+12  1.66e+12       1e-06     2.8e-08       1e-06       29  4800\n",
      " 4.2e+12  4.23e+12       1e-06     2.5e-08       1e-06       29  4900\n"
     ]
    }
   ],
   "source": [
    "statOut = statInst.completeStats(iterMax=5000)"
   ]
  },
  {
   "cell_type": "markdown",
   "metadata": {
    "deletable": true,
    "editable": true
   },
   "source": [
    "# Plotting premultiplied energy spectra\n",
    "\n",
    "I'll run this on Magnus with temporal averages later. For now, I'm taking one snapshot at t=74950 as a proxy for the temporal average."
   ]
  },
  {
   "cell_type": "code",
   "execution_count": 45,
   "metadata": {
    "collapsed": false,
    "deletable": true,
    "editable": true
   },
   "outputs": [
    {
     "name": "stderr",
     "output_type": "stream",
     "text": [
      "/home/svadarevu/linenv/lib/python3.5/site-packages/ipykernel/__main__.py:10: RuntimeWarning: divide by zero encountered in true_divide\n",
      "/home/svadarevu/linenv/lib/python3.5/site-packages/ipykernel/__main__.py:11: RuntimeWarning: divide by zero encountered in true_divide\n"
     ]
    }
   ],
   "source": [
    "os.chdir(physDataDir+'r590')\n",
    "L = 32; M=16; N=384; Re = 590.\n",
    "uuArr = miscUtil.bin2arr('uu_it74950.dat',L=32,M=16)\n",
    "vvArr = miscUtil.bin2arr('vv_it74950.dat',L=32,M=16)\n",
    "wwArr = miscUtil.bin2arr('ww_it74950.dat',L=32,M=16)\n",
    "uvArr = miscUtil.bin2arr('uv_it74950.dat',L=32,M=16)\n",
    "a = 1.; b= 2.\n",
    "kxArr = a* np.concatenate( (np.arange(L+1), np.arange(-L+1,1)))\n",
    "kyArr = b* np.arange(M)\n",
    "lxArr = 2.*np.pi/kxArr\n",
    "lyArr = 2.*np.pi/kyArr\n",
    "lxpArr = Re*lxArr\n",
    "lypArr = Re*lyArr\n",
    "zArr = 1. - pseudo.chebdif(N,1)[0]\n",
    "zpArr = Re*zArr"
   ]
  },
  {
   "cell_type": "code",
   "execution_count": 62,
   "metadata": {
    "collapsed": false,
    "deletable": true,
    "editable": true
   },
   "outputs": [
    {
     "data": {
      "image/png": "[encoded data removed]",
      "text/plain": [
       "<matplotlib.figure.Figure at 0x7fa70e2ed860>"
      ]
     },
     "metadata": {},
     "output_type": "display_data"
    }
   ],
   "source": [
    "plt.contourf(zpArr[1:N//2], lxpArr[1:L], \n",
    "             kxArr[1:L].reshape((L-1,1))*np.abs(np.sum(uuArr[1:L,:,1:N//2],axis=1)),100,cmap=plt.get_cmap('gist_heat'))\n",
    "plt.xscale(\"log\"); plt.yscale(\"log\")\n",
    "plt.colorbar()\n",
    "plt.show()\n",
    "\n",
    "#Looks alright. There are multiple peaks, but I suppose that's to be expected for a single snapshot"
   ]
  },
  {
   "cell_type": "markdown",
   "metadata": {
    "deletable": true,
    "editable": true
   },
   "source": [
    "# Testing phys2onePointSpec in python2"
   ]
  },
  {
   "cell_type": "code",
   "execution_count": 64,
   "metadata": {
    "collapsed": false,
    "deletable": true,
    "editable": true
   },
   "outputs": [
    {
     "name": "stdout",
     "output_type": "stream",
     "text": [
      "Norm diff for uu, vv, ww, uv is 0.0 0.0 0.0 0.0\n",
      "The above norms must be zero\n"
     ]
    }
   ],
   "source": [
    "uuArr2 = miscUtil.bin2arr('py2/uu_it74950.dat',L=32,M=16)\n",
    "vvArr2 = miscUtil.bin2arr('py2/vv_it74950.dat',L=32,M=16)\n",
    "wwArr2 = miscUtil.bin2arr('py2/ww_it74950.dat',L=32,M=16)\n",
    "uvArr2 = miscUtil.bin2arr('py2/uv_it74950.dat',L=32,M=16)\n",
    "norm = lambda someArr: pseudo.chebnorm(someArr,N)\n",
    "print(\"Norm diff for uu, vv, ww, uv is\",\n",
    "      norm(uuArr-uuArr2), norm(vvArr-vvArr2), norm(wwArr-wwArr2), norm(uvArr-uvArr2))\n",
    "print(\"The above norms must be zero\")"
   ]
  },
  {
   "cell_type": "markdown",
   "metadata": {
    "deletable": true,
    "editable": true
   },
   "source": [
    "# Testing phys2spec"
   ]
  },
  {
   "cell_type": "code",
   "execution_count": 69,
   "metadata": {
    "collapsed": false,
    "deletable": true,
    "editable": true
   },
   "outputs": [
    {
     "name": "stdout",
     "output_type": "stream",
     "text": [
      "Successfully FFTd ./u_it74950.dat to ./uFF_it74950.dat\n",
      "Successfully FFTd ./v_it74950.dat to ./vFF_it74950.dat\n",
      "Successfully FFTd ./w_it74950.dat to ./wFF_it74950.dat\n",
      "Successfully FFTd ./u_it74950.dat to ./uFF_it74950.dat\n",
      "Successfully FFTd ./v_it74950.dat to ./vFF_it74950.dat\n",
      "Successfully FFTd ./w_it74950.dat to ./wFF_it74950.dat\n",
      "Successfully FFTd ./u_it74950.dat to ./uFF_it74950.dat\n",
      "Successfully FFTd ./v_it74950.dat to ./vFF_it74950.dat\n",
      "Successfully FFTd ./w_it74950.dat to ./wFF_it74950.dat\n",
      "Successfully FFTd ./u_it74950.dat to ./uFF_it74950.dat\n",
      "Successfully FFTd ./v_it74950.dat to ./vFF_it74950.dat\n",
      "Successfully FFTd ./w_it74950.dat to ./wFF_it74950.dat\n",
      "1 loop, best of 3: 4.59 s per loop\n"
     ]
    }
   ],
   "source": [
    "%timeit miscUtil.phys2spec(t=74950,L=32,M=24)"
   ]
  },
  {
   "cell_type": "code",
   "execution_count": 68,
   "metadata": {
    "collapsed": false,
    "deletable": true,
    "editable": true
   },
   "outputs": [
    {
     "name": "stderr",
     "output_type": "stream",
     "text": [
      "/home/svadarevu/linenv/lib/python3.5/site-packages/numpy/core/numeric.py:531: ComplexWarning: Casting complex values to real discards the imaginary part\n",
      "  return array(a, dtype, copy=False, order=order)\n"
     ]
    },
    {
     "data": {
      "image/png": "[encoded data removed]",
      "text/plain": [
       "<matplotlib.figure.Figure at 0x7fa70e3f4cc0>"
      ]
     },
     "metadata": {},
     "output_type": "display_data"
    }
   ],
   "source": [
    "uArr = miscUtil.bin2arr('uFF_it74950.dat',L=32,M=24,N=384)\n",
    "z = pseudo.chebdif(N,1)[0]\n",
    "plt.plot(z,uArr[0,0]); plt.show()"
   ]
  },
  {
   "cell_type": "markdown",
   "metadata": {
    "deletable": true,
    "editable": true
   },
   "source": [
    "# Timing phys2spec for Re=1000"
   ]
  },
  {
   "cell_type": "code",
   "execution_count": 71,
   "metadata": {
    "collapsed": false,
    "deletable": true,
    "editable": true
   },
   "outputs": [
    {
     "name": "stdout",
     "output_type": "stream",
     "text": [
      "Successfully FFTd ./c_it100000.dat to ./cFF_it100000.dat\n",
      "Successfully FFTd ./c_it100000.dat to ./cFF_it100000.dat\n",
      "Successfully FFTd ./c_it100000.dat to ./cFF_it100000.dat\n",
      "Successfully FFTd ./c_it100000.dat to ./cFF_it100000.dat\n",
      "1 loop, best of 3: 4.8 s per loop\n"
     ]
    }
   ],
   "source": [
    "os.chdir(physDataDir+'r1000')\n",
    "%timeit miscUtil.phys2spec(t=100000,Nx=512,Ny=384,Nz=512,prefixes=['c'])"
   ]
  },
  {
   "cell_type": "code",
   "execution_count": null,
   "metadata": {
    "collapsed": true,
    "deletable": true,
    "editable": true
   },
   "outputs": [],
   "source": []
  },
  {
   "cell_type": "code",
   "execution_count": null,
   "metadata": {
    "collapsed": true,
    "deletable": true,
    "editable": true
   },
   "outputs": [],
   "source": []
  },
  {
   "cell_type": "code",
   "execution_count": null,
   "metadata": {
    "collapsed": true,
    "deletable": true,
    "editable": true
   },
   "outputs": [],
   "source": []
  }
 ],
 "metadata": {
  "kernelspec": {
   "display_name": "Python 3",
   "language": "python",
   "name": "python3"
  },
  "language_info": {
   "codemirror_mode": {
    "name": "ipython",
    "version": 3
   },
   "file_extension": ".py",
   "mimetype": "text/x-python",
   "name": "python",
   "nbconvert_exporter": "python",
   "pygments_lexer": "ipython3",
   "version": "3.5.2"
  }
 },
 "nbformat": 4,
 "nbformat_minor": 2
}
